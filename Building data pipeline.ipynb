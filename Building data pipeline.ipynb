{
 "cells": [
  {
   "cell_type": "markdown",
   "id": "7c2fd373",
   "metadata": {},
   "source": [
    "<center><h1 style=\"background-color: #C6F3CD; border-radius: 10px; color: #FFFFFF; padding: 5px;\">\n",
    "Building Simple datapipeline\n",
    "</h1><center/>"
   ]
  },
  {
   "cell_type": "markdown",
   "id": "bdfa8b4c",
   "metadata": {},
   "source": [
    "**Link to the article** : https://medium.com/ai-in-plain-english/how-to-build-data-pipelines-for-ml-projects-5675662c0483?sk=7b3e13d667f1ce337ace8985df05072e"
   ]
  },
  {
   "cell_type": "code",
   "execution_count": 1,
   "id": "3d6feb70",
   "metadata": {},
   "outputs": [],
   "source": [
    "import requests\n",
    "import json\n",
    "import polars as pl\n",
    "from API import youtube #My Youtube API key\n",
    "from youtube_transcript_api import YouTubeTranscriptApi"
   ]
  },
  {
   "cell_type": "markdown",
   "id": "2ff4f439",
   "metadata": {},
   "source": [
    "<center><h1 style=\"background-color: #C6F3CD; border-radius: 10px; color: #FFFFFF; padding: 5px;\">\n",
    "Extract\n",
    "</h1><center/>"
   ]
  },
  {
   "cell_type": "code",
   "execution_count": 2,
   "id": "041cf827",
   "metadata": {},
   "outputs": [],
   "source": [
    "def getVideoRecords(response: requests.models.Response) -> list:\n",
    "    \"\"\"\n",
    "        Function to extract YouTube video data from GET request response\n",
    "    \"\"\"\n",
    "\n",
    "    video_record_list = []\n",
    "    \n",
    "    for raw_item in json.loads(response.text)['items']:\n",
    "    \n",
    "        # only execute for youtube videos\n",
    "        if raw_item['id']['kind'] != \"youtube#video\":\n",
    "            continue\n",
    "        \n",
    "        video_record = {}\n",
    "        video_record['video_id'] = raw_item['id']['videoId']\n",
    "        video_record['datetime'] = raw_item['snippet']['publishedAt']\n",
    "        video_record['title'] = raw_item['snippet']['title']\n",
    "        \n",
    "        video_record_list.append(video_record)\n",
    "\n",
    "    return video_record_list"
   ]
  },
  {
   "cell_type": "code",
   "execution_count": 3,
   "id": "296dd54a",
   "metadata": {},
   "outputs": [],
   "source": [
    "channel_id = \"UCCF6pCTGMKdo9r_kFQS-H3Q\"\n",
    "# define url for Youtube Search API\n",
    "url = \"https://www.googleapis.com/youtube/v3/search\"\n",
    "# Ini page token\n",
    "page_token = None\n",
    "# Ini list to store video data \n",
    "video_record_list  = []"
   ]
  },
  {
   "cell_type": "code",
   "execution_count": 4,
   "id": "fa51d731",
   "metadata": {},
   "outputs": [],
   "source": [
    "# extract video data across multiple search result pages\n",
    "while page_token != 0:\n",
    "    # define parameters for API call\n",
    "    params = {\"key\": youtube, 'channelId': channel_id, 'part': [\"snippet\",\"id\"],\n",
    "               'order': \"date\", 'maxResults':50, 'pageToken': page_token}\n",
    "    # make get request\n",
    "    response = requests.get(url, params=params)\n",
    "\n",
    "    # append video records to list\n",
    "    video_record_list += getVideoRecords(response)\n",
    "\n",
    "    try:\n",
    "        # grab next page token\n",
    "        page_token = json.loads(response.text)['nextPageToken']\n",
    "    except:\n",
    "        # if no next page token kill while loop\n",
    "        page_token = 0"
   ]
  },
  {
   "cell_type": "code",
   "execution_count": 5,
   "id": "6e617ed4",
   "metadata": {},
   "outputs": [
    {
     "data": {
      "text/html": [
       "<div><style>\n",
       ".dataframe > thead > tr,\n",
       ".dataframe > tbody > tr {\n",
       "  text-align: right;\n",
       "  white-space: pre-wrap;\n",
       "}\n",
       "</style>\n",
       "<small>shape: (5, 3)</small><table border=\"1\" class=\"dataframe\"><thead><tr><th>video_id</th><th>datetime</th><th>title</th></tr><tr><td>str</td><td>str</td><td>str</td></tr></thead><tbody><tr><td>&quot;lPdek5rgQlQ&quot;</td><td>&quot;2024-07-11T17:00:26Z&quot;</td><td>&quot;I&amp;#39;ve said it once if I&amp;#39…</td></tr><tr><td>&quot;DcIV4YCfAw0&quot;</td><td>&quot;2024-07-11T09:00:10Z&quot;</td><td>&quot;Lost Temple and the SECRET GLA…</td></tr><tr><td>&quot;ryhJSUAS_dw&quot;</td><td>&quot;2024-07-10T17:00:41Z&quot;</td><td>&quot;I gave this guy +13 IN CLAWS t…</td></tr><tr><td>&quot;Vtpgsf_hpO0&quot;</td><td>&quot;2024-07-10T09:00:24Z&quot;</td><td>&quot;There&amp;#39;s 3 games here, you …</td></tr><tr><td>&quot;NTuRDDvjkvQ&quot;</td><td>&quot;2024-07-09T17:00:16Z&quot;</td><td>&quot;This guy is so INCREDIBLY BM a…</td></tr></tbody></table></div>"
      ],
      "text/plain": [
       "shape: (5, 3)\n",
       "┌─────────────┬──────────────────────┬─────────────────────────────────┐\n",
       "│ video_id    ┆ datetime             ┆ title                           │\n",
       "│ ---         ┆ ---                  ┆ ---                             │\n",
       "│ str         ┆ str                  ┆ str                             │\n",
       "╞═════════════╪══════════════════════╪═════════════════════════════════╡\n",
       "│ lPdek5rgQlQ ┆ 2024-07-11T17:00:26Z ┆ I&#39;ve said it once if I&#39… │\n",
       "│ DcIV4YCfAw0 ┆ 2024-07-11T09:00:10Z ┆ Lost Temple and the SECRET GLA… │\n",
       "│ ryhJSUAS_dw ┆ 2024-07-10T17:00:41Z ┆ I gave this guy +13 IN CLAWS t… │\n",
       "│ Vtpgsf_hpO0 ┆ 2024-07-10T09:00:24Z ┆ There&#39;s 3 games here, you … │\n",
       "│ NTuRDDvjkvQ ┆ 2024-07-09T17:00:16Z ┆ This guy is so INCREDIBLY BM a… │\n",
       "└─────────────┴──────────────────────┴─────────────────────────────────┘"
      ]
     },
     "execution_count": 5,
     "metadata": {},
     "output_type": "execute_result"
    }
   ],
   "source": [
    "df = pl.DataFrame(video_record_list)\n",
    "df.head()"
   ]
  },
  {
   "cell_type": "code",
   "execution_count": 6,
   "id": "099eba0a",
   "metadata": {},
   "outputs": [],
   "source": [
    "def extract_text(transcript: list) -> str:\n",
    "    \"\"\"\n",
    "        Function to extract text from transcript dictionary\n",
    "    \"\"\"\n",
    "    \n",
    "    text_list = [transcript[i]['text'] for i in range(len(transcript))]\n",
    "    return ' '.join(text_list)"
   ]
  },
  {
   "cell_type": "code",
   "execution_count": 7,
   "id": "b4775a1f",
   "metadata": {},
   "outputs": [],
   "source": [
    "transcript_text_list = []\n",
    "\n",
    "for i in range(len(df)):\n",
    "\n",
    "    # try to extract captions\n",
    "    try:\n",
    "        transcript = YouTubeTranscriptApi.get_transcript(df['video_id'][i])\n",
    "        transcript_text = extract_text(transcript)\n",
    "    # if not available set as n/a\n",
    "    except:\n",
    "        transcript_text = \"n/a\"\n",
    "    \n",
    "    transcript_text_list.append(transcript_text)"
   ]
  },
  {
   "cell_type": "code",
   "execution_count": 8,
   "id": "79999af6",
   "metadata": {},
   "outputs": [
    {
     "data": {
      "text/html": [
       "<div><style>\n",
       ".dataframe > thead > tr,\n",
       ".dataframe > tbody > tr {\n",
       "  text-align: right;\n",
       "  white-space: pre-wrap;\n",
       "}\n",
       "</style>\n",
       "<small>shape: (5, 4)</small><table border=\"1\" class=\"dataframe\"><thead><tr><th>video_id</th><th>datetime</th><th>title</th><th>transcript</th></tr><tr><td>str</td><td>str</td><td>str</td><td>str</td></tr></thead><tbody><tr><td>&quot;lPdek5rgQlQ&quot;</td><td>&quot;2024-07-11T17:00:26Z&quot;</td><td>&quot;I&amp;#39;ve said it once if I&amp;#39…</td><td>&quot;yo it&#x27;s PTO again let&#x27;s go P N…</td></tr><tr><td>&quot;DcIV4YCfAw0&quot;</td><td>&quot;2024-07-11T09:00:10Z&quot;</td><td>&quot;Lost Temple and the SECRET GLA…</td><td>&quot;huntresses don&#x27;t need a buff t…</td></tr><tr><td>&quot;ryhJSUAS_dw&quot;</td><td>&quot;2024-07-10T17:00:41Z&quot;</td><td>&quot;I gave this guy +13 IN CLAWS t…</td><td>&quot;guys what&#x27;s up it is time to f…</td></tr><tr><td>&quot;Vtpgsf_hpO0&quot;</td><td>&quot;2024-07-10T09:00:24Z&quot;</td><td>&quot;There&amp;#39;s 3 games here, you …</td><td>&quot;yo guys what&#x27;s up it&#x27;s W3 Cham…</td></tr><tr><td>&quot;NTuRDDvjkvQ&quot;</td><td>&quot;2024-07-09T17:00:16Z&quot;</td><td>&quot;This guy is so INCREDIBLY BM a…</td><td>&quot;oh it&#x27;s this guy night off ver…</td></tr></tbody></table></div>"
      ],
      "text/plain": [
       "shape: (5, 4)\n",
       "┌─────────────┬──────────────────────┬──────────────────────────────┬──────────────────────────────┐\n",
       "│ video_id    ┆ datetime             ┆ title                        ┆ transcript                   │\n",
       "│ ---         ┆ ---                  ┆ ---                          ┆ ---                          │\n",
       "│ str         ┆ str                  ┆ str                          ┆ str                          │\n",
       "╞═════════════╪══════════════════════╪══════════════════════════════╪══════════════════════════════╡\n",
       "│ lPdek5rgQlQ ┆ 2024-07-11T17:00:26Z ┆ I&#39;ve said it once if     ┆ yo it's PTO again let's go P │\n",
       "│             ┆                      ┆ I&#39…                       ┆ N…                           │\n",
       "│ DcIV4YCfAw0 ┆ 2024-07-11T09:00:10Z ┆ Lost Temple and the SECRET   ┆ huntresses don't need a buff │\n",
       "│             ┆                      ┆ GLA…                         ┆ t…                           │\n",
       "│ ryhJSUAS_dw ┆ 2024-07-10T17:00:41Z ┆ I gave this guy +13 IN CLAWS ┆ guys what's up it is time to │\n",
       "│             ┆                      ┆ t…                           ┆ f…                           │\n",
       "│ Vtpgsf_hpO0 ┆ 2024-07-10T09:00:24Z ┆ There&#39;s 3 games here,    ┆ yo guys what's up it's W3    │\n",
       "│             ┆                      ┆ you …                        ┆ Cham…                        │\n",
       "│ NTuRDDvjkvQ ┆ 2024-07-09T17:00:16Z ┆ This guy is so INCREDIBLY BM ┆ oh it's this guy night off   │\n",
       "│             ┆                      ┆ a…                           ┆ ver…                         │\n",
       "└─────────────┴──────────────────────┴──────────────────────────────┴──────────────────────────────┘"
      ]
     },
     "execution_count": 8,
     "metadata": {},
     "output_type": "execute_result"
    }
   ],
   "source": [
    "# add transcripts to dataframe\n",
    "df = df.with_columns(pl.Series(name=\"transcript\", values=transcript_text_list))\n",
    "df.head()"
   ]
  },
  {
   "cell_type": "markdown",
   "id": "102633ad",
   "metadata": {},
   "source": [
    "<center><h1 style=\"background-color: #C6F3CD; border-radius: 10px; color: #FFFFFF; padding: 5px;\">\n",
    "Transform\n",
    "</h1><center/>"
   ]
  },
  {
   "cell_type": "code",
   "execution_count": 66,
   "id": "7853c152",
   "metadata": {},
   "outputs": [
    {
     "name": "stdout",
     "output_type": "stream",
     "text": [
      "shape: (515, 4)\n",
      "n unique rows: 515\n",
      "n unique elements (video_id): 515\n",
      "n unique elements (datetime): 515\n",
      "n unique elements (title): 515\n",
      "n unique elements (transcript): 417\n"
     ]
    }
   ],
   "source": [
    "# Check for duplicate values\n",
    "\n",
    "print(\"shape:\", df.shape)\n",
    "print(\"n unique rows:\", df.n_unique())\n",
    "for j in range(df.shape[1]):\n",
    "    print(\"n unique elements (\" + df.columns[j] + \"):\", df[:,j].n_unique())"
   ]
  },
  {
   "cell_type": "code",
   "execution_count": 65,
   "id": "a943e45b",
   "metadata": {},
   "outputs": [
    {
     "name": "stdout",
     "output_type": "stream",
     "text": [
      "Duplicate rows:\n",
      "shape: (15, 4)\n",
      "┌─────────────┬─────────────────────┬───────────────────────────────┬──────────────────────────────┐\n",
      "│ video_id    ┆ datetime            ┆ title                         ┆ transcript                   │\n",
      "│ ---         ┆ ---                 ┆ ---                           ┆ ---                          │\n",
      "│ str         ┆ datetime[μs]        ┆ str                           ┆ str                          │\n",
      "╞═════════════╪═════════════════════╪═══════════════════════════════╪══════════════════════════════╡\n",
      "│ 0YZFjTaKc8M ┆ 2023-05-08 10:04:17 ┆ My Ally LEFT GAME IMMEDIATELY ┆ n/a                          │\n",
      "│             ┆                     ┆ …                             ┆                              │\n",
      "│ 1ePFN0fR9KM ┆ 2022-06-26 20:30:00 ┆ Here We Go Again... | WC3 |   ┆ n/a                          │\n",
      "│             ┆                     ┆ Gr…                           ┆                              │\n",
      "│ 5GPz35VbkMg ┆ 2021-10-20 11:46:25 ┆ Grubby | WC3 | [LEGENDARY]    ┆ hey guys it's logan here my  │\n",
      "│             ┆                     ┆ Fac…                          ┆ hu…                          │\n",
      "│ 5Uh8uI6vDa0 ┆ 2021-10-18 13:00:02 ┆ Grubby | WC3 | [EPIC]         ┆ n/a                          │\n",
      "│             ┆                     ┆ Dreadlor…                     ┆                              │\n",
      "│ CDSdh4Kz8os ┆ 2021-10-16 11:30:02 ┆ Grubby | WC3 | Facing a       ┆ n/a                          │\n",
      "│             ┆                     ┆ Shamel…                       ┆                              │\n",
      "│ …           ┆ …                   ┆ …                             ┆ …                            │\n",
      "│ ZQfOzutkbdM ┆ 2022-06-25 11:29:38 ┆ WRONG GRAPHICS! | WC3 |       ┆ [Music] i forgot that i      │\n",
      "│             ┆                     ┆ Grubby                        ┆ switch…                      │\n",
      "│ sLYK9vKzIAc ┆ 2021-10-12 13:18:00 ┆ Grubby | WC3 | BLADESTORM     ┆ hey guys a game of orc       │\n",
      "│             ┆                     ┆ UNLO…                         ┆ versus …                     │\n",
      "│ vqLbBrrnVVE ┆ 2021-10-17 20:10:52 ┆ Grubby | WC3 | Facing Lucifer ┆ yo what's up guys i got some │\n",
      "│             ┆                     ┆ …                             ┆ r…                           │\n",
      "│ wAtmTkAvtE8 ┆ 2021-10-23 11:59:03 ┆ Grubby | WC3 | [EPIC] LVL 8   ┆ that's all right the wall    │\n",
      "│             ┆                     ┆ WA…                           ┆ stre…                        │\n",
      "│ xKJC6DbozWw ┆ 2023-05-10 17:30:07 ┆ Are Reforged Graphics Good    ┆ hello and welcome to the     │\n",
      "│             ┆                     ┆ Yet…                          ┆ prime…                       │\n",
      "└─────────────┴─────────────────────┴───────────────────────────────┴──────────────────────────────┘\n",
      "Shape after removing duplicates: (515, 4)\n",
      "Number of unique rows: 515\n",
      "Number of unique elements (video_id): 515\n",
      "Number of unique elements (datetime): 515\n",
      "Number of unique elements (title): 515\n",
      "Number of unique elements (transcript): 417\n"
     ]
    }
   ],
   "source": [
    "\n",
    "sorted_df = df.sort('video_id')\n",
    "\n",
    "# Identify duplicates based on 'video_id'\n",
    "duplicates_mask = (sorted_df['video_id'].shift(1) == sorted_df['video_id'])\n",
    "\n",
    "# Print information about duplicates\n",
    "print(\"Duplicate rows:\")\n",
    "print(sorted_df.filter(duplicates_mask))\n",
    "\n",
    "# Remove duplicates and update df\n",
    "df = sorted_df.filter(~duplicates_mask)\n",
    "\n",
    "# Print updated shape and unique counts\n",
    "print(\"Shape after removing duplicates:\", df.shape)\n",
    "print(\"Number of unique rows:\", len(df))\n",
    "for col in df.columns:\n",
    "    print(f\"Number of unique elements ({col}):\", df[col].n_unique())\n"
   ]
  },
  {
   "cell_type": "code",
   "execution_count": 23,
   "id": "6bb0b8cc",
   "metadata": {},
   "outputs": [
    {
     "name": "stdout",
     "output_type": "stream",
     "text": [
      "shape: (5, 4)\n",
      "┌─────────────┬─────────────────────┬───────────────────────────────┬──────────────────────────────┐\n",
      "│ video_id    ┆ datetime            ┆ title                         ┆ transcript                   │\n",
      "│ ---         ┆ ---                 ┆ ---                           ┆ ---                          │\n",
      "│ str         ┆ datetime[μs]        ┆ str                           ┆ str                          │\n",
      "╞═════════════╪═════════════════════╪═══════════════════════════════╪══════════════════════════════╡\n",
      "│ lPdek5rgQlQ ┆ 2024-07-11 17:00:26 ┆ I&#39;ve said it once if      ┆ yo it's PTO again let's go P │\n",
      "│             ┆                     ┆ I&#39…                        ┆ N…                           │\n",
      "│ DcIV4YCfAw0 ┆ 2024-07-11 09:00:10 ┆ Lost Temple and the SECRET    ┆ huntresses don't need a buff │\n",
      "│             ┆                     ┆ GLA…                          ┆ t…                           │\n",
      "│ ryhJSUAS_dw ┆ 2024-07-10 17:00:41 ┆ I gave this guy +13 IN CLAWS  ┆ guys what's up it is time to │\n",
      "│             ┆                     ┆ t…                            ┆ f…                           │\n",
      "│ Vtpgsf_hpO0 ┆ 2024-07-10 09:00:24 ┆ There&#39;s 3 games here, you ┆ yo guys what's up it's W3    │\n",
      "│             ┆                     ┆ …                             ┆ Cham…                        │\n",
      "│ NTuRDDvjkvQ ┆ 2024-07-09 17:00:16 ┆ This guy is so INCREDIBLY BM  ┆ oh it's this guy night off   │\n",
      "│             ┆                     ┆ a…                            ┆ ver…                         │\n",
      "└─────────────┴─────────────────────┴───────────────────────────────┴──────────────────────────────┘\n"
     ]
    }
   ],
   "source": [
    "# Check the datatypes\n",
    "df = df.with_columns(pl.col('datetime').cast(pl.Datetime))\n",
    "print(df.head())"
   ]
  },
  {
   "cell_type": "code",
   "execution_count": 27,
   "id": "9417014f",
   "metadata": {},
   "outputs": [
    {
     "name": "stdout",
     "output_type": "stream",
     "text": [
      "There&#39;s 3 games here, you need to see all 3 to appreciate the 3rd - WC3\n"
     ]
    }
   ],
   "source": [
    "#Handle Special Chracter\n",
    "print(df['title'][3])"
   ]
  },
  {
   "cell_type": "code",
   "execution_count": 28,
   "id": "3e507a11",
   "metadata": {},
   "outputs": [
    {
     "name": "stdout",
     "output_type": "stream",
     "text": [
      "yo guys what's up it's W3 Champions felt like uh giving myself and you guys some juicy orc versus night off try hard or at least some juicy uh try hard games of course I didn't know what race I'm going to be playing against be a bit weird if I knew who I was going to be playing against wouldn't it like how do you know do you have some kind of cheat no I don't have a cheat why do you ask so yeah p is very good um I'm going to be doing this cool thing that I've seen something doing uh recently from uh Hitman do you want to know what it is it's a cool thing it's uh I've seen it from Hitman but before that I've seen it from me who knows maybe he's seen it from me I first did this in 2006 but I saw him do this six days ago it's basically where you get double circlet and then you start uh doing knock knock jokes in the night of place thank you for the sub con saon something so you do a scout with a Pon and then you go home but you don't really go home you instead make a Voodoo Lounge on The High Ground he did it uh right over here at the laboratory you have a bit more space below here but you can still do it up here of course if they see it it's rotten then they just wake up the CES you actually go double burrow on tier one like the good old days something doing remember the good old days guys buwen Society was still for real Orcs we need more gold we need more gold this is actually very similar to the Bliss gon match that I played in uh something doing against shy and soccer Warcraft season 2 gra Warcraft 3 commentaries I covered it yes I didn't even see his hero yes something doing excellent do I can do that I am yours yes I am yours there are hero and excellent choice yes my should probably skipped one uhon time for killing time for killing what you want if I ski the peel and I could make my second ground so much faster has a clause of attack my guess is he's going to try and use that to ATT Sask here Master my I am yours excellent choice yes yes Lord master I am your you want yes and blade excellent choice pleas work p here I am yours yes Lord Master yes Lord what you want task is there excellent choice master I am yours I her and what you want D what you are my life wor Tas yes when you were get out yes Lord yes yes excellent choice are you me I am yours yes excellent choice are her and oby Yes master oops I don't know where his whisp is but uh to I guess oh it's here I see something it's it's supposed to be against Demon Hunter you know this B yes I am yours yes yes Lord I hero and Obey excellent choice I am yours yes not against keeper my want my I am yours my BL yes Lord yes voice I you H and Obey I you H and Obey be happy too be I am yours yes I can do that huh slow something yes excellent choice are you here Andy yes I am yours yes Lord excellent choice yes I hero and ex yes are under attack we need more what the hell is this ping he's got ping Advantage oh wait that's me I am yours I am yours what task is there yes what task is there can't win anymore nice try go next rematch why did we forfeit can't win anymore man Brazil are doing yes yes he's forged into fire of high ping G are nice today yeah I gave him a free win with my Strat more I can try that again that build but I I I have to play it a little differently we need more gold we need more gold ready to work work complete build more Burrows work complete I can do that maybe we don't make the shop on The High Ground this time ready to work complete we need more gold something need doing something need doing be happy too can't build there yes I can do that excellent let's try the same build but a little differently yes maybe perhaps without as big of a commit I am we're still committing pretty hard but I and work complete what task is there excellent I am yours I think I should stay on one p l than my grunt would be in production still one feel to many yes Lord I hero and Obey oh excellent choice hey I am yours yes if we task is there are pretend that we're going to walk back the ancient of War he's going to cancel his Archer yours excellent choice yes what you want we need your what you want so it's not as big of a commitment are and oby are her and oby Master yes Lord there yes for me I am yours yes time SW we under attack what you want yes Lord master master Z yes I am yours what you want I still kind of like this start yes is there he's going to have a whisp again he's level one I her don't feel that bad I am yours excellent choice yes excellent choice are you her and oby yes yes yes Lord excellent choice yes what is there he was just finishing the level three no need to be too crazy about it I think he's going to go demon demon and dryads excellent choice what you want I'm just going to try to make sure that he doesn't creep what you want what task is there excellent choice for the burning blade what task my life I am your yes yes what do you want Zug Zug slow move slow move he's doing this C I guess attack what you want yes Lord I am yours maybe we'll go Mass wyvern even though he has archers yes I am yours what you want time for killing we're under attack task is there what you want yes Lord are pretty good I hear task is there yes excellent choice I am yours I and oby excellent choice Master what task is I am yours yes Lord something doing I am yours yes Time Master what task is there are you her and obey yes Lord excellent are hero and oby yes excellent what you want attack I thought I would uh stay out of vision for a while yes excellent choice I and oby excellent choice I am yours oh yes excellent choice work complete kill first I am yours direct yes Lord we are enemies be hiding it' be a pleasure we need more L complete I am your yes Lord be I am your my yes Lord I am I am yours ready to are you need something excellent choice I am yours excellent yes are hero and Obey excellent choice I W my yes Lord what task is there hey are you hero and Obey I am yours big yes time I am your yes I am your our to is under attack we enem behind excellent more I kill our town is under yes I under attack I am yours excellent our to is under attack complete are and my power I am your pleasure be my next Vic I am instead of trying to creep Jack the overlord resarch I decided to just hit him very hard I think that works out wonderfully I am en excellent choice Lord douas is there I am yours I need order yes Lord the word we need more yes enemies your yes Lord is there andy enemies above I am yours yes Lord so close to kill him to the Wi help dou I am yours what task is there yes excellent choice yes Lord need something I hero Andy excellent I am yes is there something I am yours I need yes are her and yes are hero our town is under attack say the word en I need more what you yes I am for the burning blade my I am en Amit GG well playing tough to play tough to play very unresponsive units but he has it worse what you want I can do that not likey today in Warcraft is it it's not about luck P's very good he's been at many many many land tournaments as well he's the best Brazilian player Brazil has a large Warcraft three player base he has more MMR than me it's totally legit and he does all of it with 150 ping minimum we need more p ready to work yes what you want work complete work complete something doing work work really Mama interesting I would need to see a replay greetings friend yo outline black thanks dude yes be happy can't build there ready to work work complete we need he used to be very small and then he went to get buff I made Shadow Hunter M you talked about it and now I made Shadow I didn't even realize it was subconscious I don't even know how to do it who do I kill first move faster where our enemies be hi ah direct my blade Master be Master what you want use my power we need more direct my blade we need more enies be hiding it' be a pleasure keep who be my next victim H what you want complete my be my next let's see how does this win first we en we be charm yes it be a pleasure you want who do I first yes no direct my you be my next victim Taz dingo you want what you want we need more gold power move faster it'd be a pleasure right T work complete what you want we're under attack we are enemies think pit second Walker Raider what you want we enemies hi give me a measure level three oh next victim you direct my en do I move faster faster will be my next big de huh we be my next big de you want come we be direct my blade my power yes what you want we're under attack Master direct my BL work complete something work work complete you we are getting this hide we're under attack my next VI I am one I dream a big Dam Spirit enemies use my power direct my blade I am one your F request direct my blade how much Vision does he lose what [Laughter] [Laughter] we're under attack need more your reest need something our the next bammer ready to I am one work complete use my power will I answer the call hiden trou be my next Vic de it' be a pleasure say the word you I you fail to OB don't waste my time ready to rise completely your request we're under attack we need more I dream what is TR do i k I dream of hiding yes be the next D direct Mother Earth I I am one research my power we need more only chance is to attack early maybe catch a unit I direct my I of this the I one something not ready no problem what not enough ready R sh be my next Big Dam I what trick is this something I am I yes what trick we are I kill be my next Vic F waste my time use my power use my power I am one say the what is your feeling Quest I what trickery is this can I help we need more I dream we need more gold no problem now he has or I am one oh wow what you want guys what the hell M this one's on you no staff I hexed the Naga and he wasn't snared I'm glad you won with Shadow L me too who where's that guy who said if grubby wins this I'll play 20 games really all right we got a new player on the scene Okie doie can you show the DH Vision ISU in the replay oh yeah maybe I can let's check it out thank you for the support GL kilo let's let's see if we can see it yeah yeah yeah that one guy from the beginning of the match said in chat painful to watch it is always someone painful to watch I swear you win every game with bid Lord okay so what what he was saying isie doie here's to four more years gr thanks very much peee what he's saying is uncle reincarnation got buffed to revive in 5 seconds instead of seven this didn't make any change for any hero in the game but for Demon Hunter he suspects it's because Demon Hunter is one of the slowest death animations in the game he dies and then he goes and he basically commits suu and he thinks because of that for some reason the ank of reincarnation Vision imprints on the demon hun instead of him having 800800 Vision he has 200 Vision which is what an has you'll see the an Vision soon our so this is demon under Vision this is ank it's not 200 it's like 275 or 300 our Warriors have wow that's why you walked into us like that I'm blind not deaf ah I missed the blind not deaf joke just listen to the footsteps you've got that fell spectral side out nice bug\n"
     ]
    }
   ],
   "source": [
    "print(df['transcript'][3])"
   ]
  },
  {
   "cell_type": "code",
   "execution_count": 53,
   "id": "26154ecb",
   "metadata": {},
   "outputs": [],
   "source": [
    "special_strings = ['&#39;', '&amp;', 'I&#39']\n",
    "special_string_replacements = [\"'\", \"&\", \"'\"]\n",
    "\n",
    "for i in range(len(special_strings)):\n",
    "    df = df.with_columns(df['title'].str.replace(special_strings[i], special_string_replacements[i]).alias('title'))\n",
    "    df = df.with_columns(df['transcript'].str.replace(special_strings[i], special_string_replacements[i]).alias('transcript'))"
   ]
  },
  {
   "cell_type": "code",
   "execution_count": 54,
   "id": "a62978f6",
   "metadata": {},
   "outputs": [
    {
     "name": "stdout",
     "output_type": "stream",
     "text": [
      "There's 3 games here, you need to see all 3 to appreciate the 3rd - WC3\n"
     ]
    }
   ],
   "source": [
    "print(df['title'][3])"
   ]
  },
  {
   "cell_type": "code",
   "execution_count": 55,
   "id": "5ed9a3cb",
   "metadata": {},
   "outputs": [
    {
     "data": {
      "text/html": [
       "<div><style>\n",
       ".dataframe > thead > tr,\n",
       ".dataframe > tbody > tr {\n",
       "  text-align: right;\n",
       "  white-space: pre-wrap;\n",
       "}\n",
       "</style>\n",
       "<small>shape: (531, 4)</small><table border=\"1\" class=\"dataframe\"><thead><tr><th>video_id</th><th>datetime</th><th>title</th><th>transcript</th></tr><tr><td>str</td><td>datetime[μs]</td><td>str</td><td>str</td></tr></thead><tbody><tr><td>&quot;lPdek5rgQlQ&quot;</td><td>2024-07-11 17:00:26</td><td>&quot;I&#x27;ve said it once if I&#x27;ve said…</td><td>&quot;yo it&#x27;s PTO again let&#x27;s go P N…</td></tr><tr><td>&quot;DcIV4YCfAw0&quot;</td><td>2024-07-11 09:00:10</td><td>&quot;Lost Temple and the SECRET GLA…</td><td>&quot;huntresses don&#x27;t need a buff t…</td></tr><tr><td>&quot;ryhJSUAS_dw&quot;</td><td>2024-07-10 17:00:41</td><td>&quot;I gave this guy +13 IN CLAWS t…</td><td>&quot;guys what&#x27;s up it is time to f…</td></tr><tr><td>&quot;Vtpgsf_hpO0&quot;</td><td>2024-07-10 09:00:24</td><td>&quot;There&#x27;s 3 games here, you need…</td><td>&quot;yo guys what&#x27;s up it&#x27;s W3 Cham…</td></tr><tr><td>&quot;NTuRDDvjkvQ&quot;</td><td>2024-07-09 17:00:16</td><td>&quot;This guy is so INCREDIBLY BM a…</td><td>&quot;oh it&#x27;s this guy night off ver…</td></tr><tr><td>&hellip;</td><td>&hellip;</td><td>&hellip;</td><td>&hellip;</td></tr><tr><td>&quot;CSm6i0tPv-I&quot;</td><td>2020-11-20 14:09:46</td><td>&quot;Grubby | WC3 | GHOULS + ALL TH…</td><td>&quot;creep to look for other aras g…</td></tr><tr><td>&quot;IhvrXf9ZE60&quot;</td><td>2020-11-18 13:40:07</td><td>&quot;Grubby | WC3 | 4v4 | Losing My…</td><td>&quot;n/a&quot;</td></tr><tr><td>&quot;XphBV-QeZq0&quot;</td><td>2020-11-14 00:23:56</td><td>&quot;Grubby | WC3 | KEYBOARD PoV!&quot;</td><td>&quot;paladin [Laughter] all right g…</td></tr><tr><td>&quot;YhM4TrOYsG0&quot;</td><td>2020-11-09 23:24:02</td><td>&quot;Grubby | WC3 | Down To Basics …</td><td>&quot;all right so what we&#x27;re about …</td></tr><tr><td>&quot;CXdX1o0qBRc&quot;</td><td>2020-06-20 12:08:50</td><td>&quot;Grubby | WC3 | The LONGEST FFA…</td><td>&quot;n/a&quot;</td></tr></tbody></table></div>"
      ],
      "text/plain": [
       "shape: (531, 4)\n",
       "┌─────────────┬─────────────────────┬───────────────────────────────┬──────────────────────────────┐\n",
       "│ video_id    ┆ datetime            ┆ title                         ┆ transcript                   │\n",
       "│ ---         ┆ ---                 ┆ ---                           ┆ ---                          │\n",
       "│ str         ┆ datetime[μs]        ┆ str                           ┆ str                          │\n",
       "╞═════════════╪═════════════════════╪═══════════════════════════════╪══════════════════════════════╡\n",
       "│ lPdek5rgQlQ ┆ 2024-07-11 17:00:26 ┆ I've said it once if I've     ┆ yo it's PTO again let's go P │\n",
       "│             ┆                     ┆ said…                         ┆ N…                           │\n",
       "│ DcIV4YCfAw0 ┆ 2024-07-11 09:00:10 ┆ Lost Temple and the SECRET    ┆ huntresses don't need a buff │\n",
       "│             ┆                     ┆ GLA…                          ┆ t…                           │\n",
       "│ ryhJSUAS_dw ┆ 2024-07-10 17:00:41 ┆ I gave this guy +13 IN CLAWS  ┆ guys what's up it is time to │\n",
       "│             ┆                     ┆ t…                            ┆ f…                           │\n",
       "│ Vtpgsf_hpO0 ┆ 2024-07-10 09:00:24 ┆ There's 3 games here, you     ┆ yo guys what's up it's W3    │\n",
       "│             ┆                     ┆ need…                         ┆ Cham…                        │\n",
       "│ NTuRDDvjkvQ ┆ 2024-07-09 17:00:16 ┆ This guy is so INCREDIBLY BM  ┆ oh it's this guy night off   │\n",
       "│             ┆                     ┆ a…                            ┆ ver…                         │\n",
       "│ …           ┆ …                   ┆ …                             ┆ …                            │\n",
       "│ CSm6i0tPv-I ┆ 2020-11-20 14:09:46 ┆ Grubby | WC3 | GHOULS + ALL   ┆ creep to look for other aras │\n",
       "│             ┆                     ┆ TH…                           ┆ g…                           │\n",
       "│ IhvrXf9ZE60 ┆ 2020-11-18 13:40:07 ┆ Grubby | WC3 | 4v4 | Losing   ┆ n/a                          │\n",
       "│             ┆                     ┆ My…                           ┆                              │\n",
       "│ XphBV-QeZq0 ┆ 2020-11-14 00:23:56 ┆ Grubby | WC3 | KEYBOARD PoV!  ┆ paladin [Laughter] all right │\n",
       "│             ┆                     ┆                               ┆ g…                           │\n",
       "│ YhM4TrOYsG0 ┆ 2020-11-09 23:24:02 ┆ Grubby | WC3 | Down To Basics ┆ all right so what we're      │\n",
       "│             ┆                     ┆ …                             ┆ about …                      │\n",
       "│ CXdX1o0qBRc ┆ 2020-06-20 12:08:50 ┆ Grubby | WC3 | The LONGEST    ┆ n/a                          │\n",
       "│             ┆                     ┆ FFA…                          ┆                              │\n",
       "└─────────────┴─────────────────────┴───────────────────────────────┴──────────────────────────────┘"
      ]
     },
     "execution_count": 55,
     "metadata": {},
     "output_type": "execute_result"
    }
   ],
   "source": [
    "df"
   ]
  },
  {
   "cell_type": "markdown",
   "id": "d590401d",
   "metadata": {},
   "source": [
    "<center><h1 style=\"background-color: #C6F3CD; border-radius: 10px; color: #FFFFFF; padding: 5px;\">\n",
    "Load\n",
    "</h1><center/>"
   ]
  },
  {
   "cell_type": "code",
   "execution_count": 57,
   "id": "80943b9f",
   "metadata": {},
   "outputs": [],
   "source": [
    "df.write_parquet('video-transcripts.parquet')\n",
    "df.write_csv('video-transcripts.csv')"
   ]
  }
 ],
 "metadata": {
  "kernelspec": {
   "display_name": "Python 3 (ipykernel)",
   "language": "python",
   "name": "python3"
  },
  "language_info": {
   "codemirror_mode": {
    "name": "ipython",
    "version": 3
   },
   "file_extension": ".py",
   "mimetype": "text/x-python",
   "name": "python",
   "nbconvert_exporter": "python",
   "pygments_lexer": "ipython3",
   "version": "3.11.5"
  }
 },
 "nbformat": 4,
 "nbformat_minor": 5
}
