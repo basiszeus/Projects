{
 "cells": [
  {
   "cell_type": "code",
   "execution_count": null,
   "id": "002d7219",
   "metadata": {
    "scrolled": true
   },
   "outputs": [],
   "source": [
    "pip install pywhatkit"
   ]
  },
  {
   "cell_type": "code",
   "execution_count": null,
   "id": "ab15a569",
   "metadata": {},
   "outputs": [],
   "source": [
    "import pywhatkit as p"
   ]
  },
  {
   "cell_type": "code",
   "execution_count": null,
   "id": "951ecd73",
   "metadata": {},
   "outputs": [],
   "source": [
    "#sendwhatmsg(phone_no: str, message: str, time_hour: int, time_min: int, wait_time: int = 15, tab_close: bool = False, close_time: int = 3) -> None\n",
    "p.sendwhatmsg(\"+213xxxxxxxxx\", \"Hello, Don't forget the meeting at 1:00 p.m\", 12, 30, 30)\n",
    "#We set time at 12:30\n",
    "#tab_close parameter specifies whether the tab should we closed after sending the message or not.\n",
    "#You can control the time after which the tab should be closed by specifying the close_time parameter (in seconds).\n",
    "#You can select time in hours and minutes"
   ]
  },
  {
   "cell_type": "code",
   "execution_count": null,
   "id": "62678709",
   "metadata": {},
   "outputs": [],
   "source": [
    "#Group\n",
    "p.sendwhatmsg_to_group(\"AB123CDEFGHijkfgn\", \"hello\", 12, 30, 30)"
   ]
  },
  {
   "cell_type": "code",
   "execution_count": null,
   "id": "6a0c9943",
   "metadata": {},
   "outputs": [],
   "source": [
    "p.sendwhatmsg_instantly(\"+213xxxxxxxxx\", \"Hello, Don't forget the meeting at 1:00 p.m\")\n",
    "p.sendwhatmsg_to_group_instantly(\"AB123CDEFGHijkfgn\", \"hello\")"
   ]
  },
  {
   "cell_type": "code",
   "execution_count": null,
   "id": "e61236dd",
   "metadata": {},
   "outputs": [],
   "source": [
    "p.sendwhats_image(\"+213xxxxxxxxx\", \"C:\\\\Image.png\", \"Take it\", 5)\n",
    "p.sendwhats_image(\"AB123CDEFGHijklmn\", \"C:\\\\Image.png\", \"Here is the image\", 10)"
   ]
  },
  {
   "cell_type": "code",
   "execution_count": null,
   "id": "51603686",
   "metadata": {},
   "outputs": [],
   "source": []
  }
 ],
 "metadata": {
  "kernelspec": {
   "display_name": "Python 3 (ipykernel)",
   "language": "python",
   "name": "python3"
  },
  "language_info": {
   "codemirror_mode": {
    "name": "ipython",
    "version": 3
   },
   "file_extension": ".py",
   "mimetype": "text/x-python",
   "name": "python",
   "nbconvert_exporter": "python",
   "pygments_lexer": "ipython3",
   "version": "3.9.12"
  }
 },
 "nbformat": 4,
 "nbformat_minor": 5
}
