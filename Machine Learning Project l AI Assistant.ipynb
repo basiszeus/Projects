{
 "cells": [
  {
   "cell_type": "code",
   "execution_count": 1,
   "id": "b9a63294",
   "metadata": {},
   "outputs": [],
   "source": [
    "import speech_recognition as sr\n",
    "import pyttsx3\n",
    "import pywhatkit\n",
    "import datetime\n",
    "import wikipedia"
   ]
  },
  {
   "cell_type": "markdown",
   "id": "2fcfa606",
   "metadata": {},
   "source": [
    "Create a listener"
   ]
  },
  {
   "cell_type": "code",
   "execution_count": 2,
   "id": "32b3e981",
   "metadata": {},
   "outputs": [],
   "source": [
    "listener = sr.Recognizer()"
   ]
  },
  {
   "cell_type": "code",
   "execution_count": null,
   "id": "60f6b4ce",
   "metadata": {},
   "outputs": [
    {
     "name": "stdout",
     "output_type": "stream",
     "text": [
      "Waiting...\n"
     ]
    }
   ],
   "source": [
    "listener = sr.Recognizer()\n",
    "engine = pyttsx3.init()\n",
    "voices = engine.getProperty('voices')\n",
    "engine.setProperty('voice', voices[0].id)\n",
    "\n",
    "\n",
    "def talk(text):\n",
    "    engine.say(text)\n",
    "    engine.runAndWait()\n",
    "\n",
    "\n",
    "def A_command():\n",
    "    try:\n",
    "        with sr.Microphone() as source:\n",
    "            print('Waiting...')\n",
    "            voice = listener.listen(source)\n",
    "            command = listener.recognize_google(voice)\n",
    "            command = command.lower()\n",
    "            if 'Kai' in command:\n",
    "                command = command.replace('Kai', '')\n",
    "                print(command)\n",
    "    except:\n",
    "        pass\n",
    "    return command\n",
    "\n",
    "\n",
    "def run_kai():\n",
    "    command = A_command()\n",
    "    print(command)\n",
    "    if 'play' in command:\n",
    "        song = command.replace('play', '')\n",
    "        talk('playing ' + song)\n",
    "        pywhatkit.playonyt(song)\n",
    "    elif 'glucometer' in command:\n",
    "        talk('Accu-Chek Guide')\n",
    "        pywhatkit.playonyt(url)\n",
    "    elif 'time' in command:\n",
    "        time = datetime.datetime.now().strftime('%I:%M %p')\n",
    "        talk('Current time is ' + time)\n",
    "    elif 'hypoglycemia' in command:\n",
    "        talk('sweating.,feeling tired,dizziness,feeling hungry,tingling lips,feeling shaky or trembling,a fast or pounding heartbeat (palpitations),becoming easily irritated, tearful, anxious or moody. If you think you have any of these symptoms, contact your doctor')\n",
    "    elif 'hyperglycemia' in command:\n",
    "        talk('increased thirst and a dry mouth, needing to pee frequently, tiredness, blurred vision, unintentional weight loss,recurrent infections, such as thrush, bladder infections (cystitis) and skin infections,tummy pain,feeling or being sick.If you think you have any of these symptoms, contact your doctor')    \n",
    "    elif 'glycemic' in command:\n",
    "        talk('According to the american association of diabetes it is: Before Meal 70 to 130 mg/dl and inferior to 180 mg/dl')\n",
    "    elif 'wiki' in command:\n",
    "        wiki = command.replace('wiki', '') \n",
    "        inf = wikipedia.summary(wiki, 1) \n",
    "        print(inf)\n",
    "        talk(inf)\n",
    "    else:\n",
    "        talk('Please say the command again.')\n",
    "\n",
    "\n",
    "while True:\n",
    "    run_kai()"
   ]
  },
  {
   "cell_type": "code",
   "execution_count": null,
   "id": "deb8ecec",
   "metadata": {},
   "outputs": [],
   "source": [
    "url = ('https://www.youtube.com/watch?v=nwYYD-lSINc&ab_channel=accuchekcanada') "
   ]
  }
 ],
 "metadata": {
  "kernelspec": {
   "display_name": "Python 3",
   "language": "python",
   "name": "python3"
  },
  "language_info": {
   "codemirror_mode": {
    "name": "ipython",
    "version": 3
   },
   "file_extension": ".py",
   "mimetype": "text/x-python",
   "name": "python",
   "nbconvert_exporter": "python",
   "pygments_lexer": "ipython3",
   "version": "3.6.13"
  }
 },
 "nbformat": 4,
 "nbformat_minor": 5
}
