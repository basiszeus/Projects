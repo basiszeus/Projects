{
 "cells": [
  {
   "cell_type": "code",
   "execution_count": 1,
   "id": "4f5fc06b",
   "metadata": {
    "collapsed": true
   },
   "outputs": [
    {
     "name": "stdout",
     "output_type": "stream",
     "text": [
      "Collecting SpeechRecognition\n",
      "  Using cached SpeechRecognition-3.8.1-py2.py3-none-any.whl (32.8 MB)\n",
      "Installing collected packages: SpeechRecognition\n",
      "Successfully installed SpeechRecognition-3.8.1\n",
      "Note: you may need to restart the kernel to use updated packages.\n"
     ]
    }
   ],
   "source": [
    "pip install SpeechRecognition"
   ]
  },
  {
   "cell_type": "code",
   "execution_count": 2,
   "id": "62ec9a7a",
   "metadata": {
    "collapsed": true
   },
   "outputs": [
    {
     "name": "stdout",
     "output_type": "stream",
     "text": [
      "Collecting pyttsx3\n",
      "  Using cached pyttsx3-2.90-py3-none-any.whl (39 kB)\n",
      "Collecting pypiwin32\n",
      "  Using cached pypiwin32-223-py3-none-any.whl (1.7 kB)\n",
      "Requirement already satisfied: pywin32 in c:\\users\\julia\\anadonca4\\envs\\alexa\\lib\\site-packages (from pyttsx3) (228)\n",
      "Collecting comtypes\n",
      "  Using cached comtypes-1.1.11-py2.py3-none-any.whl (167 kB)\n",
      "Installing collected packages: pypiwin32, comtypes, pyttsx3\n",
      "Successfully installed comtypes-1.1.11 pypiwin32-223 pyttsx3-2.90\n",
      "Note: you may need to restart the kernel to use updated packages.\n"
     ]
    }
   ],
   "source": [
    "pip install pyttsx3"
   ]
  },
  {
   "cell_type": "code",
   "execution_count": 3,
   "id": "eadf4701",
   "metadata": {
    "collapsed": true
   },
   "outputs": [
    {
     "name": "stdout",
     "output_type": "stream",
     "text": [
      "Collecting PyAudio\n",
      "  Downloading PyAudio-0.2.11-cp36-cp36m-win_amd64.whl (52 kB)\n",
      "Installing collected packages: PyAudio\n",
      "Successfully installed PyAudio-0.2.11\n",
      "Note: you may need to restart the kernel to use updated packages.\n"
     ]
    }
   ],
   "source": [
    "pip install PyAudio"
   ]
  },
  {
   "cell_type": "code",
   "execution_count": 9,
   "id": "6f456767",
   "metadata": {
    "collapsed": true
   },
   "outputs": [
    {
     "name": "stdout",
     "output_type": "stream",
     "text": [
      "Collecting pywhatkit\n",
      "  Downloading pywhatkit-5.3-py3-none-any.whl (15 kB)\n",
      "Collecting Pillow\n",
      "  Downloading Pillow-8.4.0-cp36-cp36m-win_amd64.whl (3.2 MB)\n",
      "Collecting pyautogui\n",
      "  Downloading PyAutoGUI-0.9.53.tar.gz (59 kB)\n",
      "Collecting wikipedia\n",
      "  Downloading wikipedia-1.4.0.tar.gz (27 kB)\n",
      "Collecting requests\n",
      "  Using cached requests-2.27.1-py2.py3-none-any.whl (63 kB)\n",
      "Collecting pymsgbox\n",
      "  Downloading PyMsgBox-1.0.9.tar.gz (18 kB)\n",
      "  Installing build dependencies: started\n",
      "  Installing build dependencies: finished with status 'done'\n",
      "  Getting requirements to build wheel: started\n",
      "  Getting requirements to build wheel: finished with status 'done'\n",
      "    Preparing wheel metadata: started\n",
      "    Preparing wheel metadata: finished with status 'done'\n",
      "Collecting PyTweening>=1.0.1\n",
      "  Downloading pytweening-1.0.4.tar.gz (14 kB)\n",
      "Collecting pyscreeze>=0.1.21\n",
      "  Downloading PyScreeze-0.1.28.tar.gz (25 kB)\n",
      "  Installing build dependencies: started\n",
      "  Installing build dependencies: finished with status 'done'\n",
      "  Getting requirements to build wheel: started\n",
      "  Getting requirements to build wheel: finished with status 'done'\n",
      "    Preparing wheel metadata: started\n",
      "    Preparing wheel metadata: finished with status 'done'\n",
      "Collecting pygetwindow>=0.0.5\n",
      "  Downloading PyGetWindow-0.0.9.tar.gz (9.7 kB)\n",
      "Collecting mouseinfo\n",
      "  Downloading MouseInfo-0.1.3.tar.gz (10 kB)\n",
      "Collecting pyrect\n",
      "  Downloading PyRect-0.2.0.tar.gz (17 kB)\n",
      "Collecting pyperclip\n",
      "  Downloading pyperclip-1.8.2.tar.gz (20 kB)\n",
      "Collecting idna<4,>=2.5\n",
      "  Using cached idna-3.3-py3-none-any.whl (61 kB)\n",
      "Collecting charset-normalizer~=2.0.0\n",
      "  Using cached charset_normalizer-2.0.12-py3-none-any.whl (39 kB)\n",
      "Requirement already satisfied: certifi>=2017.4.17 in c:\\users\\julia\\anadonca4\\envs\\alexa\\lib\\site-packages (from requests->pywhatkit) (2021.5.30)\n",
      "Collecting urllib3<1.27,>=1.21.1\n",
      "  Using cached urllib3-1.26.9-py2.py3-none-any.whl (138 kB)\n",
      "Collecting beautifulsoup4\n",
      "  Downloading beautifulsoup4-4.11.1-py3-none-any.whl (128 kB)\n",
      "Collecting soupsieve>1.2\n",
      "  Downloading soupsieve-2.3.2.post1-py3-none-any.whl (37 kB)\n",
      "Building wheels for collected packages: pyautogui, pygetwindow, pyscreeze, PyTweening, mouseinfo, pymsgbox, pyperclip, pyrect, wikipedia\n",
      "  Building wheel for pyautogui (setup.py): started\n",
      "  Building wheel for pyautogui (setup.py): finished with status 'done'\n",
      "  Created wheel for pyautogui: filename=PyAutoGUI-0.9.53-py3-none-any.whl size=36614 sha256=88f6f94e73d0a20722e26a59b683574c03d8a6eb5ae96162ed9809fb99214ad1\n",
      "  Stored in directory: c:\\users\\julia\\appdata\\local\\pip\\cache\\wheels\\24\\91\\af\\1158297ac66aa0f5472c5d1838e6d0d9101a8196e0fb219144\n",
      "  Building wheel for pygetwindow (setup.py): started\n",
      "  Building wheel for pygetwindow (setup.py): finished with status 'done'\n",
      "  Created wheel for pygetwindow: filename=PyGetWindow-0.0.9-py3-none-any.whl size=11081 sha256=2517eec132ee5f26f9e60dd681e06406b2e96ded25b59b0bf81ca676e5ad605d\n",
      "  Stored in directory: c:\\users\\julia\\appdata\\local\\pip\\cache\\wheels\\c8\\e3\\e3\\94f3a35a575d73fe9a14029bcc5207faa3db895d9410f3ce26\n",
      "  Building wheel for pyscreeze (PEP 517): started\n",
      "  Building wheel for pyscreeze (PEP 517): finished with status 'done'\n",
      "  Created wheel for pyscreeze: filename=PyScreeze-0.1.28-py3-none-any.whl size=13021 sha256=63e700558c5c507046678c686114d2abf984ab237660411f380ae432ea71334e\n",
      "  Stored in directory: c:\\users\\julia\\appdata\\local\\pip\\cache\\wheels\\59\\db\\29\\d9d65f3eae810f6c42ff5e6b978a22998adb757b7615236415\n",
      "  Building wheel for PyTweening (setup.py): started\n",
      "  Building wheel for PyTweening (setup.py): finished with status 'done'\n",
      "  Created wheel for PyTweening: filename=pytweening-1.0.4-py3-none-any.whl size=5854 sha256=452d7d7104901d1163cf5f14fbb82500758cf173d942ff58f1a7493276023114\n",
      "  Stored in directory: c:\\users\\julia\\appdata\\local\\pip\\cache\\wheels\\a3\\a0\\f2\\a3aa3551d30d561789eafb2955dbda5d8f4c691efe5fdbb987\n",
      "  Building wheel for mouseinfo (setup.py): started\n",
      "  Building wheel for mouseinfo (setup.py): finished with status 'done'\n",
      "  Created wheel for mouseinfo: filename=MouseInfo-0.1.3-py3-none-any.whl size=10906 sha256=ee8170b084a2db1a28686c0ebdb6b846284e6bffe1f70022dce36884a17e7077\n",
      "  Stored in directory: c:\\users\\julia\\appdata\\local\\pip\\cache\\wheels\\d2\\f1\\0e\\f52629592d78d60568fd6534519480a9228f4ae67eca353701\n",
      "  Building wheel for pymsgbox (PEP 517): started\n",
      "  Building wheel for pymsgbox (PEP 517): finished with status 'done'\n",
      "  Created wheel for pymsgbox: filename=PyMsgBox-1.0.9-py3-none-any.whl size=7420 sha256=ca83f266d3b453b751f8501367f2068f80dd5c58d4ee8c8cce497c9a6efa9d18\n",
      "  Stored in directory: c:\\users\\julia\\appdata\\local\\pip\\cache\\wheels\\cd\\09\\9c\\c9d9b36b0a93555e8f47cb748f5c7455db76bf42ba4a14c35c\n",
      "  Building wheel for pyperclip (setup.py): started\n",
      "  Building wheel for pyperclip (setup.py): finished with status 'done'\n",
      "  Created wheel for pyperclip: filename=pyperclip-1.8.2-py3-none-any.whl size=11137 sha256=12ac4bcee44793fb4c22c12d9372cd6074204a4b33c3bcda688ac9de00796800\n",
      "  Stored in directory: c:\\users\\julia\\appdata\\local\\pip\\cache\\wheels\\95\\38\\95\\e30a7f0b44cb90642de3469f211a3218f93f871789b4f4b46c\n",
      "  Building wheel for pyrect (setup.py): started\n",
      "  Building wheel for pyrect (setup.py): finished with status 'done'\n",
      "  Created wheel for pyrect: filename=PyRect-0.2.0-py2.py3-none-any.whl size=11196 sha256=ebb992017f91764b875f708f39e46b17f3d2792a5d0a5052046544b0c4995b04\n",
      "  Stored in directory: c:\\users\\julia\\appdata\\local\\pip\\cache\\wheels\\38\\4b\\ec\\60528ea9ae078fd1f12f817ee728b761a2423e0320df1998c7\n",
      "  Building wheel for wikipedia (setup.py): started\n",
      "  Building wheel for wikipedia (setup.py): finished with status 'done'\n",
      "  Created wheel for wikipedia: filename=wikipedia-1.4.0-py3-none-any.whl size=11695 sha256=4698b27f98cb78b5597684d08d909a51a4eb4e44c796f983aa5e05d946c43a87\n",
      "  Stored in directory: c:\\users\\julia\\appdata\\local\\pip\\cache\\wheels\\e4\\26\\c3\\4f401d3e5c907d26a2c4ca8484141f02f7630c98fbcfd78a5e\n",
      "Successfully built pyautogui pygetwindow pyscreeze PyTweening mouseinfo pymsgbox pyperclip pyrect wikipedia\n",
      "Installing collected packages: urllib3, soupsieve, pyrect, pyperclip, Pillow, idna, charset-normalizer, requests, PyTweening, pyscreeze, pymsgbox, pygetwindow, mouseinfo, beautifulsoup4, wikipedia, pyautogui, pywhatkit\n",
      "Successfully installed Pillow-8.4.0 PyTweening-1.0.4 beautifulsoup4-4.11.1 charset-normalizer-2.0.12 idna-3.3 mouseinfo-0.1.3 pyautogui-0.9.53 pygetwindow-0.0.9 pymsgbox-1.0.9 pyperclip-1.8.2 pyrect-0.2.0 pyscreeze-0.1.28 pywhatkit-5.3 requests-2.27.1 soupsieve-2.3.2.post1 urllib3-1.26.9 wikipedia-1.4.0\n",
      "Note: you may need to restart the kernel to use updated packages.\n"
     ]
    }
   ],
   "source": [
    "pip install pywhatkit"
   ]
  },
  {
   "cell_type": "code",
   "execution_count": 20,
   "id": "0a8b4ef4",
   "metadata": {
    "collapsed": true
   },
   "outputs": [
    {
     "name": "stdout",
     "output_type": "stream",
     "text": [
      "Collecting FlaskNote: you may need to restart the kernel to use updated packages.\n",
      "\n",
      "  Downloading Flask-2.0.3-py3-none-any.whl (95 kB)\n",
      "Collecting Werkzeug>=2.0\n",
      "  Downloading Werkzeug-2.0.3-py3-none-any.whl (289 kB)\n",
      "Collecting click>=7.1.2\n",
      "  Downloading click-8.0.4-py3-none-any.whl (97 kB)\n",
      "Collecting itsdangerous>=2.0\n",
      "  Using cached itsdangerous-2.0.1-py3-none-any.whl (18 kB)\n",
      "Requirement already satisfied: Jinja2>=3.0 in c:\\users\\julia\\anadonca4\\envs\\alexa\\lib\\site-packages (from Flask) (3.0.3)\n",
      "Collecting importlib-metadata\n",
      "  Downloading importlib_metadata-4.8.3-py3-none-any.whl (17 kB)\n",
      "Requirement already satisfied: colorama in c:\\users\\julia\\anadonca4\\envs\\alexa\\lib\\site-packages (from click>=7.1.2->Flask) (0.4.4)\n",
      "Requirement already satisfied: MarkupSafe>=2.0 in c:\\users\\julia\\anadonca4\\envs\\alexa\\lib\\site-packages (from Jinja2>=3.0->Flask) (2.0.1)\n",
      "Collecting dataclasses\n",
      "  Downloading dataclasses-0.8-py3-none-any.whl (19 kB)\n",
      "Collecting typing-extensions>=3.6.4\n",
      "  Using cached typing_extensions-4.1.1-py3-none-any.whl (26 kB)\n",
      "Collecting zipp>=0.5\n",
      "  Downloading zipp-3.6.0-py3-none-any.whl (5.3 kB)\n",
      "Installing collected packages: zipp, typing-extensions, importlib-metadata, dataclasses, Werkzeug, itsdangerous, click, Flask\n",
      "Successfully installed Flask-2.0.3 Werkzeug-2.0.3 click-8.0.4 dataclasses-0.8 importlib-metadata-4.8.3 itsdangerous-2.0.1 typing-extensions-4.1.1 zipp-3.6.0\n"
     ]
    }
   ],
   "source": [
    "pip install Flask"
   ]
  },
  {
   "cell_type": "code",
   "execution_count": 22,
   "id": "8450496b",
   "metadata": {
    "collapsed": true
   },
   "outputs": [
    {
     "name": "stdout",
     "output_type": "stream",
     "text": [
      "Collecting pyjokes\n",
      "  Downloading pyjokes-0.6.0-py2.py3-none-any.whl (26 kB)\n",
      "Installing collected packages: pyjokes\n",
      "Successfully installed pyjokes-0.6.0\n",
      "Note: you may need to restart the kernel to use updated packages.\n"
     ]
    }
   ],
   "source": [
    "pip install pyjokes"
   ]
  },
  {
   "cell_type": "code",
   "execution_count": 1,
   "id": "b9a63294",
   "metadata": {},
   "outputs": [],
   "source": [
    "import speech_recognition as sr\n",
    "import pyttsx3\n",
    "import pywhatkit\n",
    "import datetime\n",
    "import wikipedia"
   ]
  },
  {
   "cell_type": "markdown",
   "id": "2fcfa606",
   "metadata": {},
   "source": [
    "Create a listener"
   ]
  },
  {
   "cell_type": "code",
   "execution_count": 2,
   "id": "32b3e981",
   "metadata": {},
   "outputs": [],
   "source": [
    "listener = sr.Recognizer()"
   ]
  },
  {
   "cell_type": "code",
   "execution_count": 3,
   "id": "92a49941",
   "metadata": {},
   "outputs": [],
   "source": [
    "def take_command():\n",
    "    \n",
    "    engine = pyttsx3.init()\n",
    "    engine.say('My name is Kai')\n",
    "    engine.say('What can i do for you')\n",
    "    engine.runAndWait()\n",
    "\n",
    "    voices = engine.getProperty('voices')\n",
    "    engine.setProperty('voice', voices[1].id)\n",
    "\n",
    "    try:\n",
    "        with sr.Microphone() as source:\n",
    "            print('listening...')\n",
    "            voice = listener.listen(source)\n",
    "            command = listener.recognize_google(voice)\n",
    "            print(command)\n",
    "    except:\n",
    "        pass\n",
    "    return command"
   ]
  },
  {
   "cell_type": "code",
   "execution_count": 4,
   "id": "40492bae",
   "metadata": {},
   "outputs": [],
   "source": [
    "def talk(text):\n",
    "    engine.say(text)\n",
    "    engine.runAndWait()"
   ]
  },
  {
   "cell_type": "code",
   "execution_count": 5,
   "id": "083ea7b2",
   "metadata": {},
   "outputs": [],
   "source": [
    "def run_alexa():\n",
    "    command = take_command()\n",
    "    print(command)\n",
    "    if 'play' in command:\n",
    "        song = command.replace('play', '')\n",
    "        talk('playing ' + song)\n",
    "        pywhatkit.playonyt(song)\n",
    "    elif 'time' in command:\n",
    "        time = datetime.datetime.now().strftime('%I:%M %p') #you can use ('%H':'%M')\n",
    "        talk('Current time is ' + time)\n",
    "    elif 'who is' in command:\n",
    "        person = command.replace('who is', '') #remplace wiki by empty\n",
    "        info = wikipedia.summary(person, 1) #get the information, searching the person and how many sentences\n",
    "        print(info)\n",
    "        talk(info)\n",
    "    elif 'glycemic' in command:\n",
    "        talk('According to the american association of diabetes it is: Before Meal 70 to 130 mg/dl and inferior to 180 mg/dl')"
   ]
  },
  {
   "cell_type": "code",
   "execution_count": null,
   "id": "47249128",
   "metadata": {},
   "outputs": [
    {
     "name": "stdout",
     "output_type": "stream",
     "text": [
      "Waiting...\n"
     ]
    }
   ],
   "source": [
    "listener = sr.Recognizer()\n",
    "engine = pyttsx3.init()\n",
    "voices = engine.getProperty('voices')\n",
    "engine.setProperty('voice', voices[0].id)\n",
    "\n",
    "\n",
    "def talk(text):\n",
    "    engine.say(text)\n",
    "    engine.runAndWait()\n",
    "\n",
    "\n",
    "def A_command():\n",
    "    try:\n",
    "        with sr.Microphone() as source:\n",
    "            print('Waiting...')\n",
    "            voice = listener.listen(source)\n",
    "            command = listener.recognize_google(voice)\n",
    "            command = command.lower()\n",
    "            if 'Kai' in command:\n",
    "                command = command.replace('Kai', '')\n",
    "                print(command)\n",
    "    except:\n",
    "        pass\n",
    "    return command\n",
    "\n",
    "\n",
    "def run_kai():\n",
    "    command = A_command()\n",
    "    print(command)\n",
    "    if 'play' in command:\n",
    "        song = command.replace('play', '')\n",
    "        talk('playing ' + song)\n",
    "        pywhatkit.playonyt(song)\n",
    "    elif 'glucometer' in command:\n",
    "        talk('Accu-Chek Guide')\n",
    "        pywhatkit.playonyt(url)\n",
    "    elif 'time' in command:\n",
    "        time = datetime.datetime.now().strftime('%I:%M %p')\n",
    "        talk('Current time is ' + time)\n",
    "    elif 'hypoglycemia' in command:\n",
    "        talk('sweating.,feeling tired,dizziness,feeling hungry,tingling lips,feeling shaky or trembling,a fast or pounding heartbeat (palpitations),becoming easily irritated, tearful, anxious or moody. If you think you have any of these symptoms, contact your doctor')\n",
    "    elif 'hyperglycemia' in command:\n",
    "        talk('increased thirst and a dry mouth, needing to pee frequently, tiredness, blurred vision, unintentional weight loss,recurrent infections, such as thrush, bladder infections (cystitis) and skin infections,tummy pain,feeling or being sick.If you think you have any of these symptoms, contact your doctor')    \n",
    "    elif 'glycemic' in command:\n",
    "        talk('According to the american association of diabetes it is: Before Meal 70 to 130 mg/dl and inferior to 180 mg/dl')\n",
    "    elif 'wiki' in command:\n",
    "        wiki = command.replace('wiki', '') \n",
    "        inf = wikipedia.summary(wiki, 1) \n",
    "        print(inf)\n",
    "        talk(inf)\n",
    "    else:\n",
    "        talk('Please say the command again.')\n",
    "\n",
    "\n",
    "while True:\n",
    "    run_kai()"
   ]
  },
  {
   "cell_type": "code",
   "execution_count": null,
   "id": "ea0526de",
   "metadata": {},
   "outputs": [],
   "source": [
    "url = ('https://www.youtube.com/watch?v=nwYYD-lSINc&ab_channel=accuchekcanada') "
   ]
  },
  {
   "cell_type": "code",
   "execution_count": null,
   "id": "ca34a4dd",
   "metadata": {},
   "outputs": [],
   "source": []
  }
 ],
 "metadata": {
  "kernelspec": {
   "display_name": "Python 3",
   "language": "python",
   "name": "python3"
  },
  "language_info": {
   "codemirror_mode": {
    "name": "ipython",
    "version": 3
   },
   "file_extension": ".py",
   "mimetype": "text/x-python",
   "name": "python",
   "nbconvert_exporter": "python",
   "pygments_lexer": "ipython3",
   "version": "3.6.13"
  }
 },
 "nbformat": 4,
 "nbformat_minor": 5
}
