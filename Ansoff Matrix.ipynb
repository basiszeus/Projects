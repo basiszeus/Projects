{
 "cells": [
  {
   "cell_type": "markdown",
   "id": "e52b292e",
   "metadata": {},
   "source": [
    "<center><h1> Ansoff Matrix <h1/><center/>"
   ]
  },
  {
   "cell_type": "markdown",
   "id": "132cd13b",
   "metadata": {},
   "source": [
    "Link to the article : https://medium.com/@soulawalid/business-ansoff-matrix-460904661790"
   ]
  },
  {
   "cell_type": "code",
   "execution_count": 1,
   "id": "69a67f94",
   "metadata": {},
   "outputs": [
    {
     "name": "stdout",
     "output_type": "stream",
     "text": [
      "Welcome to the Ansoff Matrix Strategy Suggestion Tool!\n",
      "Please answer the following questions:\n",
      "Is your product new or existing? (Type 'new' or 'existing'): new\n",
      "Is your market new or existing? (Type 'new' or 'existing'): new\n",
      "\n",
      "Based on your inputs, the suggested strategy is: Diversification\n",
      "Associated risk level: High risk\n"
     ]
    }
   ],
   "source": [
    "def suggest_strategy(product, market):\n",
    "    if product == \"new\" and market == \"new\":\n",
    "        return \"Diversification\", \"High risk\"\n",
    "    elif product == \"existing\" and market == \"new\":\n",
    "        return \"Market Development\", \"Moderate risk\"\n",
    "    elif product == \"new\" and market == \"existing\":\n",
    "        return \"Product Development\", \"Moderate risk\"\n",
    "    elif product == \"existing\" and market == \"existing\":\n",
    "        return \"Market Penetration\", \"Low risk\"\n",
    "\n",
    "def main():\n",
    "    print(\"Welcome to the Ansoff Matrix Strategy Suggestion Tool!\")\n",
    "    print(\"Please answer the following questions:\")\n",
    "    product = input(\"Is your product new or existing? (Type 'new' or 'existing'): \").lower()\n",
    "    market = input(\"Is your market new or existing? (Type 'new' or 'existing'): \").lower()\n",
    "\n",
    "    strategy, risk = suggest_strategy(product, market)\n",
    "    print(f\"\\nBased on your inputs, the suggested strategy is: {strategy}\")\n",
    "    print(f\"Associated risk level: {risk}\")\n",
    "\n",
    "if __name__ == \"__main__\":\n",
    "    main()"
   ]
  }
 ],
 "metadata": {
  "kernelspec": {
   "display_name": "Python 3 (ipykernel)",
   "language": "python",
   "name": "python3"
  },
  "language_info": {
   "codemirror_mode": {
    "name": "ipython",
    "version": 3
   },
   "file_extension": ".py",
   "mimetype": "text/x-python",
   "name": "python",
   "nbconvert_exporter": "python",
   "pygments_lexer": "ipython3",
   "version": "3.11.5"
  }
 },
 "nbformat": 4,
 "nbformat_minor": 5
}
