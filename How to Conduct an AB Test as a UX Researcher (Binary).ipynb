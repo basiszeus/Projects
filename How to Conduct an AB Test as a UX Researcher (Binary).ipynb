{
 "cells": [
  {
   "cell_type": "markdown",
   "id": "7c2fd373",
   "metadata": {},
   "source": [
    "<center><h1 style=\"background-color: #C6F3CD; border-radius: 10px; color: #FFFFFF; padding: 5px;\">\n",
    "How to Conduct an A/B Test as a UX Researcher: A Step-by-Step Guide (Binary)\n",
    "</h1><center/>"
   ]
  },
  {
   "cell_type": "markdown",
   "id": "bdfa8b4c",
   "metadata": {},
   "source": [
    "**Link to the article** : https://medium.com/@soulawalid/how-to-conduct-an-a-b-test-as-a-ux-researcher-a-step-by-step-guide-711a8bf38c01?sk=da18313a8c53388490ccb982fc51fd9a"
   ]
  },
  {
   "cell_type": "code",
   "execution_count": 39,
   "id": "74e975ca",
   "metadata": {},
   "outputs": [],
   "source": [
    "import numpy as np\n",
    "from statsmodels.stats.proportion import proportions_ztest\n",
    "from statsmodels.stats.proportion import proportion_effectsize\n",
    "from statsmodels.stats.power import NormalIndPower\n",
    "from scipy.stats import norm"
   ]
  },
  {
   "cell_type": "code",
   "execution_count": 28,
   "id": "c55f2238",
   "metadata": {},
   "outputs": [],
   "source": [
    "# Parameters\n",
    "alpha = 0.05\n",
    "power = 0.8\n",
    "baseline_ctr = 0.1  # 10%\n",
    "mde = 0.02  # 2%"
   ]
  },
  {
   "cell_type": "code",
   "execution_count": 31,
   "id": "5b67058e",
   "metadata": {},
   "outputs": [],
   "source": [
    "# Calculate effect size\n",
    "effect_size = proportion_effectsize(baseline_ctr, baseline_ctr + mde)"
   ]
  },
  {
   "cell_type": "code",
   "execution_count": 32,
   "id": "d197a1b1",
   "metadata": {},
   "outputs": [
    {
     "name": "stdout",
     "output_type": "stream",
     "text": [
      "Minimum sample size per group: 3835\n"
     ]
    }
   ],
   "source": [
    "# Calculate required sample size\n",
    "analysis = NormalIndPower()\n",
    "sample_size_per_group = analysis.solve_power(effect_size=effect_size, alpha=alpha, power=power, alternative='two-sided')\n",
    "sample_size_per_group = int(np.ceil(sample_size_per_group))  # Round up\n",
    "print(f\"Minimum sample size per group: {sample_size_per_group}\")"
   ]
  },
  {
   "cell_type": "code",
   "execution_count": 26,
   "id": "e754999b",
   "metadata": {},
   "outputs": [
    {
     "name": "stdout",
     "output_type": "stream",
     "text": [
      "Test duration in days: 8\n"
     ]
    }
   ],
   "source": [
    "# Number of visitors per day\n",
    "visitors_per_day = 1000\n",
    "\n",
    "# Calculate total sample size needed (two groups)\n",
    "total_sample_size = sample_size_per_group * 2\n",
    "\n",
    "# Calculate the duration of the test in days\n",
    "test_duration_days = total_sample_size / visitors_per_day\n",
    "test_duration_days = int(np.ceil(test_duration_days))  # Round up to the nearest whole number\n",
    "print(f\"Test duration in days: {test_duration_days}\")"
   ]
  },
  {
   "cell_type": "code",
   "execution_count": 34,
   "id": "1475113a",
   "metadata": {},
   "outputs": [],
   "source": [
    "sample_size_per_group = 3836 \n",
    "control_clicks = 383  \n",
    "test_clicks = 459   \n",
    "control_visitors = sample_size_per_group\n",
    "test_visitors = sample_size_per_group"
   ]
  },
  {
   "cell_type": "code",
   "execution_count": 36,
   "id": "4582320f",
   "metadata": {},
   "outputs": [
    {
     "name": "stdout",
     "output_type": "stream",
     "text": [
      "0.09984358706986445 0.11965589155370178\n"
     ]
    }
   ],
   "source": [
    "# Calculate proportions\n",
    "control_ctr = control_clicks / control_visitors\n",
    "test_ctr = test_clicks / test_visitors\n",
    "print (control_ctr, test_ctr)"
   ]
  },
  {
   "cell_type": "markdown",
   "id": "360b2068",
   "metadata": {},
   "source": [
    "### P-Value"
   ]
  },
  {
   "cell_type": "code",
   "execution_count": 48,
   "id": "0487721a",
   "metadata": {},
   "outputs": [
    {
     "name": "stdout",
     "output_type": "stream",
     "text": [
      "Control CTR: 0.0998\n",
      "Test CTR: 0.1197\n",
      "z-statistic: -2.7759\n",
      "p-value: 0.9972\n",
      "Fail to reject the null hypothesis: The new button color does not increase the CTR.\n"
     ]
    }
   ],
   "source": [
    "# Perform z-test for proportions (one-tailed test)\n",
    "counts = np.array([control_clicks, test_clicks])\n",
    "nobs = np.array([control_visitors, test_visitors])\n",
    "z_stat, p_value = proportions_ztest(counts, nobs, alternative='larger')\n",
    "\n",
    "# Output results\n",
    "print(f\"Control CTR: {control_ctr:.4f}\")\n",
    "print(f\"Test CTR: {test_ctr:.4f}\")\n",
    "print(f\"z-statistic: {z_stat:.4f}\")\n",
    "print(f\"p-value: {p_value:.4f}\")\n",
    "\n",
    "# Compare p-value to significance level\n",
    "alpha = 0.05\n",
    "if p_value < alpha:\n",
    "    print(\"Reject the null hypothesis: The new button color increases the CTR.\")\n",
    "else:\n",
    "    print(\"Fail to reject the null hypothesis: The new button color does not increase the CTR.\")"
   ]
  },
  {
   "cell_type": "markdown",
   "id": "5d42d7b1",
   "metadata": {},
   "source": [
    "### Critical Value"
   ]
  },
  {
   "cell_type": "code",
   "execution_count": 45,
   "id": "1dc0a897",
   "metadata": {},
   "outputs": [
    {
     "name": "stdout",
     "output_type": "stream",
     "text": [
      "Critical value: 1.6449\n",
      "Fail to reject the null hypothesis: The new button color does not increase the CTR.\n"
     ]
    }
   ],
   "source": [
    "# Determine critical value for one-tailed test\n",
    "z_critical = norm.ppf(1 - alpha)\n",
    "print(f\"Critical value: {z_critical:.4f}\")\n",
    "\n",
    "# Compare z-statistic with critical value\n",
    "if z_stat > z_critical:\n",
    "    print(\"Reject the null hypothesis: The new button color increases the CTR.\")\n",
    "else:\n",
    "    print(\"Fail to reject the null hypothesis: The new button color does not increase the CTR.\")"
   ]
  },
  {
   "cell_type": "code",
   "execution_count": null,
   "id": "332f4225",
   "metadata": {},
   "outputs": [],
   "source": []
  }
 ],
 "metadata": {
  "kernelspec": {
   "display_name": "Python 3 (ipykernel)",
   "language": "python",
   "name": "python3"
  },
  "language_info": {
   "codemirror_mode": {
    "name": "ipython",
    "version": 3
   },
   "file_extension": ".py",
   "mimetype": "text/x-python",
   "name": "python",
   "nbconvert_exporter": "python",
   "pygments_lexer": "ipython3",
   "version": "3.11.5"
  }
 },
 "nbformat": 4,
 "nbformat_minor": 5
}
