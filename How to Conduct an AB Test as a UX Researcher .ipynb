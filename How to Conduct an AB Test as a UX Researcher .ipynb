{
 "cells": [
  {
   "cell_type": "markdown",
   "id": "7c2fd373",
   "metadata": {},
   "source": [
    "<center><h1 style=\"background-color: #C6F3CD; border-radius: 10px; color: #FFFFFF; padding: 5px;\">\n",
    "How to Conduct an A/B Test as a UX Researcher: A Step-by-Step Guide\n",
    "</h1><center/>"
   ]
  },
  {
   "cell_type": "markdown",
   "id": "bdfa8b4c",
   "metadata": {},
   "source": [
    "**Link to the article** : https://medium.com/@soulawalid/how-to-conduct-an-a-b-test-as-a-ux-researcher-a-step-by-step-guide-711a8bf38c01?sk=da18313a8c53388490ccb982fc51fd9a"
   ]
  },
  {
   "cell_type": "code",
   "execution_count": 9,
   "id": "74e975ca",
   "metadata": {},
   "outputs": [],
   "source": [
    "import numpy as np\n",
    "from statsmodels.stats.power import TTestIndPower\n",
    "from scipy.stats import ttest_ind, t"
   ]
  },
  {
   "cell_type": "code",
   "execution_count": 3,
   "id": "c55f2238",
   "metadata": {},
   "outputs": [],
   "source": [
    "# Parameters\n",
    "alpha = 0.05\n",
    "power = 0.8\n",
    "baseline_avg_time = 120  # seconds\n",
    "mde = 10  # seconds\n",
    "std_dev = 30  # seconds"
   ]
  },
  {
   "cell_type": "code",
   "execution_count": 4,
   "id": "5b67058e",
   "metadata": {},
   "outputs": [
    {
     "name": "stdout",
     "output_type": "stream",
     "text": [
      "Minimum sample size per group: 112\n"
     ]
    }
   ],
   "source": [
    "# Effect size calculation\n",
    "effect_size = mde / std_dev\n",
    "\n",
    "# Sample size calculation\n",
    "analysis = TTestIndPower()\n",
    "sample_size = analysis.solve_power(effect_size=effect_size, alpha=alpha, power=power, alternative='larger')\n",
    "sample_size = int(np.ceil(sample_size))  # Round up to the nearest whole number\n",
    "print(f\"Minimum sample size per group: {sample_size}\")"
   ]
  },
  {
   "cell_type": "code",
   "execution_count": 5,
   "id": "e754999b",
   "metadata": {},
   "outputs": [
    {
     "name": "stdout",
     "output_type": "stream",
     "text": [
      "Estimated test duration: 1 days\n"
     ]
    }
   ],
   "source": [
    "# Test duration estimation\n",
    "average_visitors_per_day = 1000  # Example value\n",
    "total_sample_size = sample_size * 2\n",
    "test_duration_days = total_sample_size / average_visitors_per_day\n",
    "test_duration_days = int(np.ceil(test_duration_days))  # Round up to the nearest whole number\n",
    "print(f\"Estimated test duration: {test_duration_days} days\")"
   ]
  },
  {
   "cell_type": "markdown",
   "id": "ca3787d8",
   "metadata": {},
   "source": [
    "### P-Value"
   ]
  },
  {
   "cell_type": "code",
   "execution_count": 6,
   "id": "3164ea24",
   "metadata": {},
   "outputs": [
    {
     "name": "stdout",
     "output_type": "stream",
     "text": [
      "T-statistic: -4.34208387254077, P-value: 0.999989270938507\n",
      "Fail to reject the null hypothesis: No significant increase in the average time spent on the page.\n"
     ]
    }
   ],
   "source": [
    "# Simulated data (normally, you would collect this from your experiment)\n",
    "np.random.seed(42)\n",
    "group_A = np.random.normal(loc=baseline_avg_time, scale=std_dev, size=sample_size)\n",
    "group_B = np.random.normal(loc=baseline_avg_time + mde, scale=std_dev, size=sample_size)\n",
    "\n",
    "# Perform the t-test\n",
    "t_stat, p_value = ttest_ind(group_A, group_B, alternative='greater')\n",
    "print(f\"T-statistic: {t_stat}, P-value: {p_value}\")\n",
    "\n",
    "# Decision based on p-value\n",
    "if p_value < alpha:\n",
    "    print(\"Reject the null hypothesis: The new layout increases the average time spent on the page.\")\n",
    "else:\n",
    "    print(\"Fail to reject the null hypothesis: No significant increase in the average time spent on the page.\")"
   ]
  },
  {
   "cell_type": "markdown",
   "id": "4039e1cf",
   "metadata": {},
   "source": [
    "### Critical Value"
   ]
  },
  {
   "cell_type": "code",
   "execution_count": 10,
   "id": "279121fa",
   "metadata": {},
   "outputs": [
    {
     "name": "stdout",
     "output_type": "stream",
     "text": [
      "Critical value: 1.6517463586794643\n",
      "Fail to reject the null hypothesis: No significant increase in the average time spent on the page.\n"
     ]
    }
   ],
   "source": [
    "# Degrees of freedom\n",
    "df = 2 * sample_size - 2\n",
    "\n",
    "# Critical value for one-tailed test\n",
    "critical_value = t.ppf(1 - alpha, df)\n",
    "print(f\"Critical value: {critical_value}\")\n",
    "\n",
    "# Decision based on the t-statistic and critical value\n",
    "if t_stat > critical_value:\n",
    "    print(\"Reject the null hypothesis: The new layout increases the average time spent on the page.\")\n",
    "else:\n",
    "    print(\"Fail to reject the null hypothesis: No significant increase in the average time spent on the page.\")"
   ]
  }
 ],
 "metadata": {
  "kernelspec": {
   "display_name": "Python 3 (ipykernel)",
   "language": "python",
   "name": "python3"
  },
  "language_info": {
   "codemirror_mode": {
    "name": "ipython",
    "version": 3
   },
   "file_extension": ".py",
   "mimetype": "text/x-python",
   "name": "python",
   "nbconvert_exporter": "python",
   "pygments_lexer": "ipython3",
   "version": "3.11.5"
  }
 },
 "nbformat": 4,
 "nbformat_minor": 5
}
