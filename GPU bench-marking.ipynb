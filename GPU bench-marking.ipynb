{
 "cells": [
  {
   "cell_type": "code",
   "execution_count": 1,
   "id": "be17d8e0",
   "metadata": {
    "collapsed": true
   },
   "outputs": [
    {
     "name": "stdout",
     "output_type": "stream",
     "text": [
      "WARNING:tensorflow:Please fix your imports. Module tensorflow.python.training.tracking.base has been moved to tensorflow.python.trackable.base. The old module will be deleted in version 2.11.\n",
      "WARNING:tensorflow:Please fix your imports. Module tensorflow.python.training.tracking.resource has been moved to tensorflow.python.trackable.resource. The old module will be deleted in version 2.11.\n",
      "WARNING:tensorflow:Please fix your imports. Module tensorflow.python.training.tracking.graph_view has been moved to tensorflow.python.checkpoint.graph_view. The old module will be deleted in version 2.11.\n",
      "WARNING:tensorflow:Please fix your imports. Module tensorflow.python.training.saving.functional_saver has been moved to tensorflow.python.checkpoint.functional_saver. The old module will be deleted in version 2.11.\n",
      "WARNING:tensorflow:Please fix your imports. Module tensorflow.python.training.saving.checkpoint_options has been moved to tensorflow.python.checkpoint.checkpoint_options. The old module will be deleted in version 2.11.\n"
     ]
    }
   ],
   "source": [
    "import tensorflow as tf\n",
    "from tensorflow import keras\n",
    "import matplotlib.pyplot as plt\n",
    "import numpy as np"
   ]
  },
  {
   "cell_type": "code",
   "execution_count": 2,
   "id": "01669a6d",
   "metadata": {},
   "outputs": [
    {
     "data": {
      "text/plain": [
       "[PhysicalDevice(name='/physical_device:CPU:0', device_type='CPU'),\n",
       " PhysicalDevice(name='/physical_device:GPU:0', device_type='GPU')]"
      ]
     },
     "execution_count": 2,
     "metadata": {},
     "output_type": "execute_result"
    }
   ],
   "source": [
    "#Configuration\n",
    "tf.config.experimental.list_physical_devices()"
   ]
  },
  {
   "cell_type": "markdown",
   "id": "91507ba2",
   "metadata": {},
   "source": [
    "If the GPU is not showing like now, you need to do the following steps : https://www.tensorflow.org/install/pip"
   ]
  },
  {
   "cell_type": "code",
   "execution_count": 3,
   "id": "2a7d2175",
   "metadata": {},
   "outputs": [
    {
     "data": {
      "text/plain": [
       "True"
      ]
     },
     "execution_count": 3,
     "metadata": {},
     "output_type": "execute_result"
    }
   ],
   "source": [
    "#If Tensorflow is build with Cuda\n",
    "tf.test.is_built_with_cuda()"
   ]
  },
  {
   "cell_type": "code",
   "execution_count": 4,
   "id": "1300870e",
   "metadata": {},
   "outputs": [],
   "source": [
    "#Choose a data set"
   ]
  },
  {
   "cell_type": "markdown",
   "id": "b7f4e793",
   "metadata": {},
   "source": [
    "We will choose a dataset from Keras, link : https://keras.io/api/datasets/\n",
    "- We will choose CIFAR10 small images classification dataset"
   ]
  },
  {
   "cell_type": "code",
   "execution_count": 5,
   "id": "b0c3ccbb",
   "metadata": {},
   "outputs": [],
   "source": [
    "(X_train,y_train), (X_test, y_test) = tf.keras.datasets.cifar10.load_data()"
   ]
  },
  {
   "cell_type": "code",
   "execution_count": 6,
   "id": "8bb13c29",
   "metadata": {},
   "outputs": [
    {
     "data": {
      "text/plain": [
       "(50000, 32, 32, 3)"
      ]
     },
     "execution_count": 6,
     "metadata": {},
     "output_type": "execute_result"
    }
   ],
   "source": [
    "X_train.shape\n",
    "#50000 !\n",
    "#32*32 picture\n",
    "#each image has 3 colors (red, green blue)"
   ]
  },
  {
   "cell_type": "code",
   "execution_count": 7,
   "id": "c498ae13",
   "metadata": {},
   "outputs": [
    {
     "data": {
      "text/plain": [
       "(50000, 1)"
      ]
     },
     "execution_count": 7,
     "metadata": {},
     "output_type": "execute_result"
    }
   ],
   "source": [
    "y_train.shape"
   ]
  },
  {
   "cell_type": "code",
   "execution_count": 8,
   "id": "0aff8c15",
   "metadata": {},
   "outputs": [
    {
     "data": {
      "text/plain": [
       "array([[6],\n",
       "       [9],\n",
       "       [9],\n",
       "       [4],\n",
       "       [1],\n",
       "       [1],\n",
       "       [2],\n",
       "       [7],\n",
       "       [8],\n",
       "       [3]], dtype=uint8)"
      ]
     },
     "execution_count": 8,
     "metadata": {},
     "output_type": "execute_result"
    }
   ],
   "source": [
    "y_train[0:10]"
   ]
  },
  {
   "cell_type": "code",
   "execution_count": 9,
   "id": "061068fa",
   "metadata": {},
   "outputs": [],
   "source": [
    "#1 to 9 here are image classes"
   ]
  },
  {
   "cell_type": "code",
   "execution_count": 10,
   "id": "afae0ba2",
   "metadata": {},
   "outputs": [],
   "source": [
    "#Create a class to show img\n",
    "\n",
    "def img(x):\n",
    "    plt.figure(figsize=(10,1))\n",
    "    plt.imshow(X_train[x])"
   ]
  },
  {
   "cell_type": "code",
   "execution_count": 11,
   "id": "468e239f",
   "metadata": {},
   "outputs": [
    {
     "data": {
      "image/png": "[encoded data removed]",
      "text/plain": [
       "<Figure size 720x72 with 1 Axes>"
      ]
     },
     "metadata": {
      "needs_background": "light"
     },
     "output_type": "display_data"
    }
   ],
   "source": [
    "img(1)"
   ]
  },
  {
   "cell_type": "code",
   "execution_count": 12,
   "id": "5f0407b6",
   "metadata": {},
   "outputs": [
    {
     "data": {
      "image/png": "[encoded data removed]",
      "text/plain": [
       "<Figure size 720x72 with 1 Axes>"
      ]
     },
     "metadata": {
      "needs_background": "light"
     },
     "output_type": "display_data"
    }
   ],
   "source": [
    "img(2)"
   ]
  },
  {
   "cell_type": "markdown",
   "id": "a876b59c",
   "metadata": {},
   "source": [
    "- Nous allons crée une variable classes afin d'enregistrer les classes de 0 à 9 selon leur répartition sur Keras.\n",
    "- L'objectif est de faciliter la lecture apr la suite des résultats"
   ]
  },
  {
   "cell_type": "code",
   "execution_count": 25,
   "id": "b0bb6221",
   "metadata": {},
   "outputs": [],
   "source": [
    "classes = ['airplane','automobile','bird','cat','deer','dog','frog','horse','ship','truck']"
   ]
  },
  {
   "cell_type": "code",
   "execution_count": 26,
   "id": "08c06050",
   "metadata": {},
   "outputs": [
    {
     "data": {
      "image/png": "[encoded data removed]",
      "text/plain": [
       "<Figure size 720x72 with 1 Axes>"
      ]
     },
     "metadata": {
      "needs_background": "light"
     },
     "output_type": "display_data"
    }
   ],
   "source": [
    "img(4)"
   ]
  },
  {
   "cell_type": "markdown",
   "id": "3b3bf8a8",
   "metadata": {},
   "source": [
    "The fourth picture looks like a car"
   ]
  },
  {
   "cell_type": "code",
   "execution_count": 27,
   "id": "2696bf1d",
   "metadata": {},
   "outputs": [
    {
     "data": {
      "text/plain": [
       "array([1], dtype=uint8)"
      ]
     },
     "execution_count": 27,
     "metadata": {},
     "output_type": "execute_result"
    }
   ],
   "source": [
    "y_train[4]\n",
    "#We don't need an array, we need the first element of it (highest probability)"
   ]
  },
  {
   "cell_type": "code",
   "execution_count": 29,
   "id": "53beb334",
   "metadata": {},
   "outputs": [
    {
     "data": {
      "text/plain": [
       "'automobile'"
      ]
     },
     "execution_count": 29,
     "metadata": {},
     "output_type": "execute_result"
    }
   ],
   "source": [
    "classes[y_train[4][0]]\n",
    "#We will compare the result with y_train and take only the 1st element of the list\n",
    "#The result is automotive!"
   ]
  },
  {
   "cell_type": "markdown",
   "id": "4fef461c",
   "metadata": {},
   "source": [
    "## Scaling images"
   ]
  },
  {
   "cell_type": "markdown",
   "id": "1ee723e8",
   "metadata": {},
   "source": [
    "We are going to divide the images by 255, because the RGB values are 0 to 255"
   ]
  },
  {
   "cell_type": "code",
   "execution_count": 30,
   "id": "b2cb3aab",
   "metadata": {},
   "outputs": [
    {
     "data": {
      "text/plain": [
       "array([[[ 59,  62,  63],\n",
       "        [ 43,  46,  45],\n",
       "        [ 50,  48,  43],\n",
       "        ...,\n",
       "        [158, 132, 108],\n",
       "        [152, 125, 102],\n",
       "        [148, 124, 103]],\n",
       "\n",
       "       [[ 16,  20,  20],\n",
       "        [  0,   0,   0],\n",
       "        [ 18,   8,   0],\n",
       "        ...,\n",
       "        [123,  88,  55],\n",
       "        [119,  83,  50],\n",
       "        [122,  87,  57]],\n",
       "\n",
       "       [[ 25,  24,  21],\n",
       "        [ 16,   7,   0],\n",
       "        [ 49,  27,   8],\n",
       "        ...,\n",
       "        [118,  84,  50],\n",
       "        [120,  84,  50],\n",
       "        [109,  73,  42]],\n",
       "\n",
       "       ...,\n",
       "\n",
       "       [[208, 170,  96],\n",
       "        [201, 153,  34],\n",
       "        [198, 161,  26],\n",
       "        ...,\n",
       "        [160, 133,  70],\n",
       "        [ 56,  31,   7],\n",
       "        [ 53,  34,  20]],\n",
       "\n",
       "       [[180, 139,  96],\n",
       "        [173, 123,  42],\n",
       "        [186, 144,  30],\n",
       "        ...,\n",
       "        [184, 148,  94],\n",
       "        [ 97,  62,  34],\n",
       "        [ 83,  53,  34]],\n",
       "\n",
       "       [[177, 144, 116],\n",
       "        [168, 129,  94],\n",
       "        [179, 142,  87],\n",
       "        ...,\n",
       "        [216, 184, 140],\n",
       "        [151, 118,  84],\n",
       "        [123,  92,  72]]], dtype=uint8)"
      ]
     },
     "execution_count": 30,
     "metadata": {},
     "output_type": "execute_result"
    }
   ],
   "source": [
    "X_train[0]"
   ]
  },
  {
   "cell_type": "markdown",
   "id": "88b4d2c4",
   "metadata": {},
   "source": [
    "You can see that each pixel has a value between 0 to 255, in order to reduce the value distance, we will transform the data into a value between 0 to 1 by devising by 255"
   ]
  },
  {
   "cell_type": "code",
   "execution_count": 31,
   "id": "6a199660",
   "metadata": {},
   "outputs": [
    {
     "data": {
      "text/plain": [
       "array([[[0.23137255, 0.24313725, 0.24705882],\n",
       "        [0.16862745, 0.18039216, 0.17647059],\n",
       "        [0.19607843, 0.18823529, 0.16862745],\n",
       "        ...,\n",
       "        [0.61960784, 0.51764706, 0.42352941],\n",
       "        [0.59607843, 0.49019608, 0.4       ],\n",
       "        [0.58039216, 0.48627451, 0.40392157]],\n",
       "\n",
       "       [[0.0627451 , 0.07843137, 0.07843137],\n",
       "        [0.        , 0.        , 0.        ],\n",
       "        [0.07058824, 0.03137255, 0.        ],\n",
       "        ...,\n",
       "        [0.48235294, 0.34509804, 0.21568627],\n",
       "        [0.46666667, 0.3254902 , 0.19607843],\n",
       "        [0.47843137, 0.34117647, 0.22352941]],\n",
       "\n",
       "       [[0.09803922, 0.09411765, 0.08235294],\n",
       "        [0.0627451 , 0.02745098, 0.        ],\n",
       "        [0.19215686, 0.10588235, 0.03137255],\n",
       "        ...,\n",
       "        [0.4627451 , 0.32941176, 0.19607843],\n",
       "        [0.47058824, 0.32941176, 0.19607843],\n",
       "        [0.42745098, 0.28627451, 0.16470588]],\n",
       "\n",
       "       ...,\n",
       "\n",
       "       [[0.81568627, 0.66666667, 0.37647059],\n",
       "        [0.78823529, 0.6       , 0.13333333],\n",
       "        [0.77647059, 0.63137255, 0.10196078],\n",
       "        ...,\n",
       "        [0.62745098, 0.52156863, 0.2745098 ],\n",
       "        [0.21960784, 0.12156863, 0.02745098],\n",
       "        [0.20784314, 0.13333333, 0.07843137]],\n",
       "\n",
       "       [[0.70588235, 0.54509804, 0.37647059],\n",
       "        [0.67843137, 0.48235294, 0.16470588],\n",
       "        [0.72941176, 0.56470588, 0.11764706],\n",
       "        ...,\n",
       "        [0.72156863, 0.58039216, 0.36862745],\n",
       "        [0.38039216, 0.24313725, 0.13333333],\n",
       "        [0.3254902 , 0.20784314, 0.13333333]],\n",
       "\n",
       "       [[0.69411765, 0.56470588, 0.45490196],\n",
       "        [0.65882353, 0.50588235, 0.36862745],\n",
       "        [0.70196078, 0.55686275, 0.34117647],\n",
       "        ...,\n",
       "        [0.84705882, 0.72156863, 0.54901961],\n",
       "        [0.59215686, 0.4627451 , 0.32941176],\n",
       "        [0.48235294, 0.36078431, 0.28235294]]])"
      ]
     },
     "execution_count": 31,
     "metadata": {},
     "output_type": "execute_result"
    }
   ],
   "source": [
    "X_train[0]/255"
   ]
  },
  {
   "cell_type": "markdown",
   "id": "10bb21d2",
   "metadata": {},
   "source": [
    "- Values are now between 0 to 1\n",
    "- The operation greatly facilitates the training of the DeepLearning model"
   ]
  },
  {
   "cell_type": "code",
   "execution_count": 33,
   "id": "3f0f381e",
   "metadata": {},
   "outputs": [],
   "source": [
    "X_train_scaled = X_train/255\n",
    "X_test_scaled =  X_test/255"
   ]
  },
  {
   "cell_type": "markdown",
   "id": "482f7ebb",
   "metadata": {},
   "source": [
    "We don't need to touch y_train or y_test because it's the class labels that are between 0 to 9"
   ]
  },
  {
   "cell_type": "code",
   "execution_count": 34,
   "id": "4b626514",
   "metadata": {},
   "outputs": [
    {
     "data": {
      "text/plain": [
       "(50000, 32, 32, 3)"
      ]
     },
     "execution_count": 34,
     "metadata": {},
     "output_type": "execute_result"
    }
   ],
   "source": [
    "X_train_scaled.shape"
   ]
  },
  {
   "cell_type": "markdown",
   "id": "c3631b21",
   "metadata": {},
   "source": [
    "Shape still the same as before, the value changed from 0 to 255 to 0 to 1"
   ]
  },
  {
   "cell_type": "markdown",
   "id": "b0f6c132",
   "metadata": {},
   "source": [
    "## Encoding the value of Y"
   ]
  },
  {
   "cell_type": "markdown",
   "id": "af9c7398",
   "metadata": {},
   "source": [
    "We need the value of Y be an array of all the class not only the one with the highest probability"
   ]
  },
  {
   "cell_type": "code",
   "execution_count": 35,
   "id": "689ebd7a",
   "metadata": {},
   "outputs": [
    {
     "data": {
      "text/plain": [
       "array([[6],\n",
       "       [9],\n",
       "       [9]], dtype=uint8)"
      ]
     },
     "execution_count": 35,
     "metadata": {},
     "output_type": "execute_result"
    }
   ],
   "source": [
    "y_train[:3]"
   ]
  },
  {
   "cell_type": "markdown",
   "id": "4fb16e88",
   "metadata": {},
   "source": [
    "- You can see that we have results from 0 to 9\n",
    "- We will use Keras to transform the values of y into a category\n",
    "- The class number is 10 (from 0 to 9)\n",
    "- datatype is float"
   ]
  },
  {
   "cell_type": "code",
   "execution_count": 36,
   "id": "66ad3301",
   "metadata": {},
   "outputs": [],
   "source": [
    "y_train_categorical = keras.utils.to_categorical(\n",
    "y_train, num_classes=10, dtype ='float32')"
   ]
  },
  {
   "cell_type": "code",
   "execution_count": 37,
   "id": "3728c6d3",
   "metadata": {},
   "outputs": [
    {
     "data": {
      "text/plain": [
       "array([[0., 0., 0., 0., 0., 0., 1., 0., 0., 0.],\n",
       "       [0., 0., 0., 0., 0., 0., 0., 0., 0., 1.],\n",
       "       [0., 0., 0., 0., 0., 0., 0., 0., 0., 1.]], dtype=float32)"
      ]
     },
     "execution_count": 37,
     "metadata": {},
     "output_type": "execute_result"
    }
   ],
   "source": [
    "y_train_categorical[:3]"
   ]
  },
  {
   "cell_type": "markdown",
   "id": "14e5deba",
   "metadata": {},
   "source": [
    "- Now we don't only have the values 6,9,9 on the first 3 rows, but each class has a column, so 10 columns (for each class) with the number 1 in one column which corresponds to the classification\n",
    "- We had first 6, you can see that there are five \"0\" before the 1, because the first is classified as the 6th class, and therefore the 1 appears in the 6th columns\n",
    "- This operation is called OneHotEncoding"
   ]
  },
  {
   "cell_type": "code",
   "execution_count": 38,
   "id": "1c4153a4",
   "metadata": {},
   "outputs": [],
   "source": [
    "y_test_categorical = keras.utils.to_categorical(\n",
    "y_test, num_classes=10, dtype ='float32')"
   ]
  },
  {
   "cell_type": "markdown",
   "id": "51118932",
   "metadata": {},
   "source": [
    "# Model"
   ]
  },
  {
   "cell_type": "code",
   "execution_count": 41,
   "id": "717ea560",
   "metadata": {
    "scrolled": true
   },
   "outputs": [
    {
     "name": "stdout",
     "output_type": "stream",
     "text": [
      "Epoch 1/50\n",
      "1563/1563 [==============================] - 4s 2ms/step - loss: 1.8577 - accuracy: 0.3389\n",
      "Epoch 2/50\n",
      "1563/1563 [==============================] - 3s 2ms/step - loss: 1.6847 - accuracy: 0.4098\n",
      "Epoch 3/50\n",
      "1563/1563 [==============================] - 3s 2ms/step - loss: 1.6104 - accuracy: 0.4368\n",
      "Epoch 4/50\n",
      "1563/1563 [==============================] - 3s 2ms/step - loss: 1.5593 - accuracy: 0.4539\n",
      "Epoch 5/50\n",
      "1563/1563 [==============================] - 3s 2ms/step - loss: 1.5154 - accuracy: 0.4687\n",
      "Epoch 6/50\n",
      "1563/1563 [==============================] - 3s 2ms/step - loss: 1.4813 - accuracy: 0.4834\n",
      "Epoch 7/50\n",
      "1563/1563 [==============================] - 3s 2ms/step - loss: 1.4500 - accuracy: 0.4919\n",
      "Epoch 8/50\n",
      "1563/1563 [==============================] - 3s 2ms/step - loss: 1.4210 - accuracy: 0.5050\n",
      "Epoch 9/50\n",
      "1563/1563 [==============================] - 4s 2ms/step - loss: 1.3975 - accuracy: 0.5110\n",
      "Epoch 10/50\n",
      "1563/1563 [==============================] - 3s 2ms/step - loss: 1.3759 - accuracy: 0.5214\n",
      "Epoch 11/50\n",
      "1563/1563 [==============================] - 4s 2ms/step - loss: 1.3546 - accuracy: 0.5278\n",
      "Epoch 12/50\n",
      "1563/1563 [==============================] - 6s 4ms/step - loss: 1.3345 - accuracy: 0.5327\n",
      "Epoch 13/50\n",
      "1563/1563 [==============================] - 5s 3ms/step - loss: 1.3166 - accuracy: 0.5393\n",
      "Epoch 14/50\n",
      "1563/1563 [==============================] - 5s 3ms/step - loss: 1.2993 - accuracy: 0.5477\n",
      "Epoch 15/50\n",
      "1563/1563 [==============================] - 5s 3ms/step - loss: 1.2815 - accuracy: 0.5529\n",
      "Epoch 16/50\n",
      "1563/1563 [==============================] - 4s 3ms/step - loss: 1.2685 - accuracy: 0.5581\n",
      "Epoch 17/50\n",
      "1563/1563 [==============================] - 3s 2ms/step - loss: 1.2517 - accuracy: 0.5655\n",
      "Epoch 18/50\n",
      "1563/1563 [==============================] - 3s 2ms/step - loss: 1.2380 - accuracy: 0.5690\n",
      "Epoch 19/50\n",
      "1563/1563 [==============================] - 4s 2ms/step - loss: 1.2225 - accuracy: 0.5720\n",
      "Epoch 20/50\n",
      "1563/1563 [==============================] - 4s 2ms/step - loss: 1.2113 - accuracy: 0.5780\n",
      "Epoch 21/50\n",
      "1563/1563 [==============================] - 4s 3ms/step - loss: 1.1982 - accuracy: 0.5836\n",
      "Epoch 22/50\n",
      "1563/1563 [==============================] - 3s 2ms/step - loss: 1.1829 - accuracy: 0.5859\n",
      "Epoch 23/50\n",
      "1563/1563 [==============================] - 3s 2ms/step - loss: 1.1668 - accuracy: 0.5946\n",
      "Epoch 24/50\n",
      "1563/1563 [==============================] - 4s 3ms/step - loss: 1.1576 - accuracy: 0.5969\n",
      "Epoch 25/50\n",
      "1563/1563 [==============================] - 3s 2ms/step - loss: 1.1440 - accuracy: 0.6026\n",
      "Epoch 26/50\n",
      "1563/1563 [==============================] - 3s 2ms/step - loss: 1.1332 - accuracy: 0.6053\n",
      "Epoch 27/50\n",
      "1563/1563 [==============================] - 3s 2ms/step - loss: 1.1191 - accuracy: 0.6095\n",
      "Epoch 28/50\n",
      "1563/1563 [==============================] - 3s 2ms/step - loss: 1.1097 - accuracy: 0.6136\n",
      "Epoch 29/50\n",
      "1563/1563 [==============================] - 4s 2ms/step - loss: 1.0993 - accuracy: 0.6165\n",
      "Epoch 30/50\n",
      "1563/1563 [==============================] - 3s 2ms/step - loss: 1.0873 - accuracy: 0.6221\n",
      "Epoch 31/50\n",
      "1563/1563 [==============================] - 3s 2ms/step - loss: 1.0759 - accuracy: 0.6265\n",
      "Epoch 32/50\n",
      "1563/1563 [==============================] - 3s 2ms/step - loss: 1.0604 - accuracy: 0.6290\n",
      "Epoch 33/50\n",
      "1563/1563 [==============================] - 3s 2ms/step - loss: 1.0535 - accuracy: 0.6327\n",
      "Epoch 34/50\n",
      "1563/1563 [==============================] - 3s 2ms/step - loss: 1.0434 - accuracy: 0.6349\n",
      "Epoch 35/50\n",
      "1563/1563 [==============================] - 3s 2ms/step - loss: 1.0329 - accuracy: 0.6397\n",
      "Epoch 36/50\n",
      "1563/1563 [==============================] - 3s 2ms/step - loss: 1.0196 - accuracy: 0.6462\n",
      "Epoch 37/50\n",
      "1563/1563 [==============================] - 3s 2ms/step - loss: 1.0112 - accuracy: 0.6493\n",
      "Epoch 38/50\n",
      "1563/1563 [==============================] - 3s 2ms/step - loss: 1.0013 - accuracy: 0.6522\n",
      "Epoch 39/50\n",
      "1563/1563 [==============================] - 3s 2ms/step - loss: 0.9893 - accuracy: 0.6562\n",
      "Epoch 40/50\n",
      "1563/1563 [==============================] - 3s 2ms/step - loss: 0.9799 - accuracy: 0.6604\n",
      "Epoch 41/50\n",
      "1563/1563 [==============================] - 3s 2ms/step - loss: 0.9703 - accuracy: 0.6627\n",
      "Epoch 42/50\n",
      "1563/1563 [==============================] - 4s 2ms/step - loss: 0.9598 - accuracy: 0.6674\n",
      "Epoch 43/50\n",
      "1563/1563 [==============================] - 4s 3ms/step - loss: 0.9506 - accuracy: 0.6707\n",
      "Epoch 44/50\n",
      "1563/1563 [==============================] - 4s 2ms/step - loss: 0.9392 - accuracy: 0.6746\n",
      "Epoch 45/50\n",
      "1563/1563 [==============================] - 4s 2ms/step - loss: 0.9290 - accuracy: 0.6763\n",
      "Epoch 46/50\n",
      "1563/1563 [==============================] - 4s 2ms/step - loss: 0.9215 - accuracy: 0.6779\n",
      "Epoch 47/50\n",
      "1563/1563 [==============================] - 4s 2ms/step - loss: 0.9118 - accuracy: 0.6828\n",
      "Epoch 48/50\n",
      "1563/1563 [==============================] - 3s 2ms/step - loss: 0.8991 - accuracy: 0.6869\n",
      "Epoch 49/50\n",
      "1563/1563 [==============================] - 3s 2ms/step - loss: 0.8924 - accuracy: 0.6909\n",
      "Epoch 50/50\n",
      "1563/1563 [==============================] - 3s 2ms/step - loss: 0.8804 - accuracy: 0.6950\n"
     ]
    },
    {
     "data": {
      "text/plain": [
       "<keras.callbacks.History at 0x225cb41d3c0>"
      ]
     },
     "execution_count": 41,
     "metadata": {},
     "output_type": "execute_result"
    }
   ],
   "source": [
    "#We need to flatten the input into 1 array\n",
    "model = keras.Sequential([\n",
    "      keras.layers.Flatten(input_shape=(32,32,3)), #from 3D to 1D 32*32*3 to 3072\n",
    "      keras.layers.Dense(500, activation='relu'),   #Hidden Layer (read work better for HL)\n",
    "      keras.layers.Dense(10, activation='sigmoid') #for classification 'output layer', we have 10 classes\n",
    "])\n",
    "\n",
    "model.compile(optimizer='SGD',\n",
    "              loss = 'categorical_crossentropy', #we changed the value of y to categorical\n",
    "              metrics=['accuracy'])\n",
    "model.fit(X_train_scaled, y_train_categorical, epochs=50)\n",
    "\n",
    "#It will use GPU by default"
   ]
  },
  {
   "cell_type": "markdown",
   "id": "c8dd214f",
   "metadata": {},
   "source": [
    "# Prediction"
   ]
  },
  {
   "cell_type": "code",
   "execution_count": 52,
   "id": "fb05bf0f",
   "metadata": {},
   "outputs": [
    {
     "name": "stdout",
     "output_type": "stream",
     "text": [
      "313/313 [==============================] - 0s 1ms/step\n"
     ]
    },
    {
     "data": {
      "text/plain": [
       "array([0.9956637 , 0.9227676 , 0.2866095 , 0.11459236, 0.1540393 ,\n",
       "       0.13172553, 0.0058299 , 0.2124616 , 0.970647  , 0.8926997 ],\n",
       "      dtype=float32)"
      ]
     },
     "execution_count": 52,
     "metadata": {},
     "output_type": "execute_result"
    }
   ],
   "source": [
    "model.predict(X_test_scaled)[2]"
   ]
  },
  {
   "cell_type": "code",
   "execution_count": 53,
   "id": "3d3172d1",
   "metadata": {},
   "outputs": [
    {
     "name": "stdout",
     "output_type": "stream",
     "text": [
      "313/313 [==============================] - 0s 978us/step\n"
     ]
    },
    {
     "data": {
      "text/plain": [
       "0"
      ]
     },
     "execution_count": 53,
     "metadata": {},
     "output_type": "execute_result"
    }
   ],
   "source": [
    "#We want the highest probability\n",
    "np.argmax(model.predict(X_test_scaled)[2])"
   ]
  },
  {
   "cell_type": "code",
   "execution_count": 54,
   "id": "2e9d80ae",
   "metadata": {},
   "outputs": [
    {
     "name": "stdout",
     "output_type": "stream",
     "text": [
      "313/313 [==============================] - 0s 1ms/step\n"
     ]
    },
    {
     "data": {
      "text/plain": [
       "'airplane'"
      ]
     },
     "execution_count": 54,
     "metadata": {},
     "output_type": "execute_result"
    }
   ],
   "source": [
    "#We want the classe\n",
    "classes[np.argmax(model.predict(X_test_scaled)[2])]"
   ]
  },
  {
   "cell_type": "markdown",
   "id": "dbce3ae5",
   "metadata": {},
   "source": [
    "Comparaison with y_test"
   ]
  },
  {
   "cell_type": "code",
   "execution_count": 55,
   "id": "2aa0fb12",
   "metadata": {},
   "outputs": [
    {
     "data": {
      "text/plain": [
       "'ship'"
      ]
     },
     "execution_count": 55,
     "metadata": {},
     "output_type": "execute_result"
    }
   ],
   "source": [
    "classes[y_test[2][0]]"
   ]
  },
  {
   "cell_type": "markdown",
   "id": "56f46fb2",
   "metadata": {},
   "source": [
    "The model is terrible xD"
   ]
  },
  {
   "cell_type": "code",
   "execution_count": 57,
   "id": "99a4ac6a",
   "metadata": {},
   "outputs": [
    {
     "name": "stdout",
     "output_type": "stream",
     "text": [
      "313/313 [==============================] - 1s 3ms/step - loss: 1.4391 - accuracy: 0.5210\n"
     ]
    },
    {
     "data": {
      "text/plain": [
       "[1.4391300678253174, 0.5210000276565552]"
      ]
     },
     "execution_count": 57,
     "metadata": {},
     "output_type": "execute_result"
    }
   ],
   "source": [
    "model.evaluate(X_test_scaled,y_test_categorical)"
   ]
  },
  {
   "cell_type": "code",
   "execution_count": 58,
   "id": "60b2ec6a",
   "metadata": {},
   "outputs": [],
   "source": [
    "#Create a model function to run it on CPU and GPU\n",
    "\n",
    "def get_model():\n",
    "    model = keras.Sequential([\n",
    "            keras.layers.Flatten(input_shape=(32,32,3)),\n",
    "            keras.layers.Dense(3000, activation='relu'),\n",
    "            keras.layers.Dense(1000, activation='relu'),\n",
    "            keras.layers.Dense(10, activation='sigmoid')    \n",
    "        ])\n",
    "\n",
    "    model.compile(optimizer='SGD',\n",
    "                  loss='categorical_crossentropy',\n",
    "                  metrics=['accuracy'])\n",
    "    return model"
   ]
  },
  {
   "cell_type": "code",
   "execution_count": 59,
   "id": "73bfa891",
   "metadata": {
    "collapsed": true
   },
   "outputs": [
    {
     "data": {
      "text/plain": [
       "[PhysicalDevice(name='/physical_device:CPU:0', device_type='CPU'),\n",
       " PhysicalDevice(name='/physical_device:GPU:0', device_type='GPU')]"
      ]
     },
     "execution_count": 59,
     "metadata": {},
     "output_type": "execute_result"
    }
   ],
   "source": [
    "tf.config.experimental.list_physical_devices()"
   ]
  },
  {
   "cell_type": "code",
   "execution_count": 64,
   "id": "6a01be5f",
   "metadata": {},
   "outputs": [
    {
     "name": "stdout",
     "output_type": "stream",
     "text": [
      "1563/1563 [==============================] - 52s 33ms/step - loss: 1.8103 - accuracy: 0.3554\n",
      "52.6 s ± 0 ns per loop (mean ± std. dev. of 1 run, 1 loop each)\n"
     ]
    }
   ],
   "source": [
    "%%timeit -n1 -r1 \n",
    "with tf.device('/CPU:0'):\n",
    "    cpu_test = get_model()\n",
    "    cpu_test.fit(X_train_scaled,y_train_categorical, epochs=1)"
   ]
  },
  {
   "cell_type": "code",
   "execution_count": 66,
   "id": "d9c40d3a",
   "metadata": {},
   "outputs": [
    {
     "name": "stdout",
     "output_type": "stream",
     "text": [
      "1563/1563 [==============================] - 6s 3ms/step - loss: 1.8119 - accuracy: 0.3544\n",
      "6.45 s ± 0 ns per loop (mean ± std. dev. of 1 run, 1 loop each)\n"
     ]
    }
   ],
   "source": [
    "%%timeit -n1 -r1 \n",
    "with tf.device('/GPU:0'):\n",
    "    cpu_model = get_model()\n",
    "    cpu_model.fit(X_train_scaled, y_train_categorical, epochs=1)"
   ]
  }
 ],
 "metadata": {
  "kernelspec": {
   "display_name": "Python 3 (ipykernel)",
   "language": "python",
   "name": "python3"
  },
  "language_info": {
   "codemirror_mode": {
    "name": "ipython",
    "version": 3
   },
   "file_extension": ".py",
   "mimetype": "text/x-python",
   "name": "python",
   "nbconvert_exporter": "python",
   "pygments_lexer": "ipython3",
   "version": "3.10.4"
  }
 },
 "nbformat": 4,
 "nbformat_minor": 5
}
